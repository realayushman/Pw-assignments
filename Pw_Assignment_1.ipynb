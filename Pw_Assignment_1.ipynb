{
 "cells": [
  {
   "cell_type": "markdown",
   "id": "a7b3e6bf-abb2-4074-850e-a6c0aa1706b5",
   "metadata": {},
   "source": [
    "# Assignment 1 || Python "
   ]
  },
  {
   "cell_type": "markdown",
   "id": "44592e72-2efc-43e0-a7c8-dba3d268145a",
   "metadata": {},
   "source": [
    "### 1. Explain the key features of python that make it a popular choice for programming"
   ]
  },
  {
   "cell_type": "markdown",
   "id": "f109ec08-951f-47dc-a346-5433130dfb06",
   "metadata": {},
   "source": [
    "The reason why python is one of the most popular and highly used programming language among the programmers is because it has several features that make it\n",
    "highly readable, easy to uderstand and easy to use.\n",
    "Some of them are mentioned below:\n",
    "\n",
    "1. Readability & simplicity: Clear and easy to understand syntax.\n",
    "2. Versatility: Suitable for various fields like web development, data science, AI, robotics etc.\n",
    "3. Libraries: Useful libs and tools like NumPy, TensorFlow and Django etc.\n",
    "4. Community support: Large active community with abundant resources.\n",
    "5. Exception handling: It has Exception handling features to handle erros.\n",
    "6. Interpreted Language: Code is executed line-by-line, aiding in testing and debugging.\n",
    "7. Multiple Paradigms*: Supports object-oriented, functional, and procedural programming."
   ]
  },
  {
   "cell_type": "markdown",
   "id": "eea223fb-f985-4bf1-ae35-d6b6d67a9846",
   "metadata": {},
   "source": [
    "### 2. Describe the role of predefined keywords in python with example."
   ]
  },
  {
   "cell_type": "markdown",
   "id": "48b33337-dbd2-4e0c-a649-cc50b54fd014",
   "metadata": {},
   "source": [
    "Predefined keywords in Python are reserved words with special meanings and assigned a specific task. They cannot be used as variable names. They define the structure and behaviour of python program.\n",
    "\n",
    "examples: for, while, print, range, def, class and import etc"
   ]
  },
  {
   "cell_type": "code",
   "execution_count": null,
   "id": "4ae82b0a-5795-41f7-ad53-ebd64bfd28f8",
   "metadata": {},
   "outputs": [
    {
     "name": "stdout",
     "output_type": "stream",
     "text": [
      "x is greater than 10\n",
      "1\n",
      "2\n",
      "3\n",
      "4\n",
      "5\n",
      "6\n",
      "7\n",
      "8\n",
      "9\n",
      "10\n"
     ]
    }
   ],
   "source": [
    "#exampl:\n",
    "x=11\n",
    "if x > 10:\n",
    "    print(\"x is greater than 10\")\n",
    "else:\n",
    "    print(\"x is 10 or less\")\n",
    "for i in range(1,11):\n",
    "    print(i)\n",
    "     \n",
    "# if, else: Used for conditional statements.\n",
    "# print: Used to print o/p on the screen.\n",
    "# for: Used to perform a action in loop(while,for)\n",
    "# range: Used to determine the range"
   ]
  },
  {
   "cell_type": "markdown",
   "id": "c1eb8355-75a8-45dc-8b5e-3c9068be8e3e",
   "metadata": {},
   "source": [
    "### 3. Compare and contrast mutable and immutable objects in python"
   ]
  },
  {
   "cell_type": "markdown",
   "id": "6d178bca-2916-4da1-8c39-4ed40b4b9645",
   "metadata": {},
   "source": [
    "In Python, objects are classified as either mutable or immutable.\n",
    "Here's a comparison of mutable and immutable objects:"
   ]
  },
  {
   "cell_type": "markdown",
   "id": "8a53aac0-0f7f-44df-9f61-7e8e695a5c06",
   "metadata": {},
   "source": [
    "mutable:\n",
    "- Mutable objects can have their state or contents modified after creation.\n",
    "- Examples: Lists, dictionaries, sets, and byte arrays.\n",
    "- You can change, add or remove elements in a mutable object without changing its identity (i.e. memory address).\n",
    "- Since mutable objects can be changed in place, they are preffered for operations that involve frequent modifications.\n",
    "- If a mutable object is passed to a function, any changes made to it within the function will affect the original object outside the function, because the object’s reference is passed."
   ]
  },
  {
   "cell_type": "code",
   "execution_count": null,
   "id": "66e57bae-82a1-44c0-8944-3a8992caa6ec",
   "metadata": {},
   "outputs": [
    {
     "data": {
      "text/plain": [
       "[1, 2, 3, 4]"
      ]
     },
     "execution_count": 2,
     "metadata": {},
     "output_type": "execute_result"
    }
   ],
   "source": [
    "#Example\n",
    "my_list = [1, 2, 3]\n",
    "my_list.append(4)  # my_list is now [1, 2, 3, 4]\n",
    "my_list"
   ]
  },
  {
   "cell_type": "markdown",
   "id": "b844187c-315b-4617-a840-1197155eb930",
   "metadata": {},
   "source": [
    "Immutable Objects:\n",
    "- Immutable objects can not be changed after they are created. Any operation that appears to modify an immutable object will actually create a new object with the modified value.\n",
    "- Examples: Strings, tuples, integers, floats, and frozensets.\n",
    "- To \"modify\" an immutable object, you must create a new object. For example, concatenating two strings results in a new string object.\n",
    "- Immutable objects can be more memory efficient and safer to use in concurrent programming, as their state cannot change unexpectedly.\n",
    "- If an immutable object is passed to a function, any \"changes\" to it will not affect the original object outside the function. The function will operate on a new object instead."
   ]
  },
  {
   "cell_type": "code",
   "execution_count": null,
   "id": "7cb19ba0-90b1-4519-9aea-2eb591abfe11",
   "metadata": {},
   "outputs": [
    {
     "data": {
      "text/plain": [
       "(1, 2, 3, 4)"
      ]
     },
     "execution_count": 4,
     "metadata": {},
     "output_type": "execute_result"
    }
   ],
   "source": [
    "#Example:\n",
    "my_tuple = (1, 2, 3)\n",
    "new_tuple = my_tuple + (4,)  # my_tuple is still (1, 2, 3); new_tuple is (1, 2, 3, 4)\n",
    "new_tuple"
   ]
  },
  {
   "cell_type": "markdown",
   "id": "faeedc82-dffc-4f75-a9f9-cc506dbb1998",
   "metadata": {},
   "source": [
    "Differences:\n",
    "- Modification: Mutable objects can be changed after creation, while immutable objects cannot.\n",
    "- Reference Behavior: Modifying a mutable object changes it in place, affecting all references to that object. In contrast, operations on immutable objects result in new objects.\n",
    "- Use Cases: Mutable objects are ideal for scenarios where you need to frequently update the data. Immutable objects are preferable for fixed data structures or when you need to ensure that the data cannot be changed (e.g., keys in a dictionary)."
   ]
  },
  {
   "cell_type": "markdown",
   "id": "babf11fe-8b79-4b7f-89c5-27f3a55558c6",
   "metadata": {},
   "source": [
    "### 4. Discuss the different types of operators in python with example."
   ]
  },
  {
   "cell_type": "markdown",
   "id": "7c340444-89da-47c8-89e8-c40e2482af6a",
   "metadata": {},
   "source": [
    "1. Arithmetic Operators\n",
    "   Arithmetic operators are used for basic mathematical calculations:\n",
    "   - Addition (+): Combines two values (e.g., 5 + 3 results in 8).\n",
    "   - Subtraction (-): Subtracts one value from another (e.g., 10 - 7 results in 3).\n",
    "   - Multiplication (*): Multiplies two values (e.g., 4 * 6 results in 24).\n",
    "   - Division (/): Divides one value by another, giving a floating-point result (e.g., 15 / 2 results in 7.5).\n",
    "   - Floor Division (//): Similar to division but only returns the integer part of the quotient (e.g., 15 // 2 results in 7).\n",
    "   - Modulus (%): Provides the remainder after division (e.g., 15 % 4 results in 3).\n",
    "   - Exponentiation (**): Raises a value to the power of another (e.g., 2 ** 3 results in 8).\n",
    "\n",
    "2. Comparison (Relational) Operators\n",
    "   Comparison operators evaluate relationships between values, returning a Boolean (True or False):\n",
    "   - Equal to (==): Checks if two values are equal (e.g., 5 == 5 returns True).\n",
    "   - Not equal to (!=): Checks if two values are not equal (e.g., 5 != 3 returns True).\n",
    "   - Greater than (>): Checks if the first value is greater than the second (e.g., 7 > 3 returns True).\n",
    "   - Less than (<): Checks if the first value is less than the second (e.g., 3 < 7 returns True).\n",
    "   - Greater than or equal to (>=): Checks if the first value is greater than or equal to the second (e.g., 4 >= 4 returns True).\n",
    "   - Less than or equal to (<=): Checks if the first value is less than or equal to the second (e.g., 3 <= 5 returns True).\n",
    "\n",
    "3. Logical Operators\n",
    "   Logical operators are used to combine conditional statements:\n",
    "   - and: Returns True if both conditions are true (e.g True and False results in False).\n",
    "   - or: Returns True if at least one condition is true (e.g True or False results in True).\n",
    "   - not: Reverses the Boolean value of a condition (e.g not True results in False).\n",
    "\n",
    "4. Bitwise Operators\n",
    "   Bitwise operators work at the binary level:\n",
    "   - AND (&): Compares each bit of two integers and returns a new integer where the bits are 1 only if both corresponding bits are 1 (e.g., 5 & 3 results in 1 in binary).\n",
    "   - OR (|): Compares each bit of two integers and returns 1 if either bit is 1 (e.g., 5 | 3 results in 7 in binary).\n",
    "   - NOT (~): Inverts all the bits of a number (e.g., ~5 flips the bits of 5).\n",
    "   - Left Shift (<<): Shifts the bits of the number to the left, adding zeros from the right (e.g., 5 << 1 shifts bits left).\n",
    "   - Right Shift (>>): Shifts the bits to the right, removing bits from the right (e.g., 5 >> 1 shifts bits right).\n",
    "\n",
    "5. Assignment Operators\n",
    "   Assignment operators assign values to variables, often in combination with an operation:\n",
    "   - Simple Assignment (=): Assigns a value directly (e.g., x = 5).\n",
    "   - Add and Assign (+=): Adds a value to a variable and assigns the result to that variable (e.g., x += 3).\n",
    "   - Subtract and Assign (-=), Multiply and Assign (*=), Divide and Assign (/=), Floor Divide and Assign (//=), Modulus and Assign (%=), Exponentiate and Assign (**=): Each of these operators performs the corresponding arithmetic operation and then assigns the result to the variable.\n",
    "\n",
    "\n",
    "6. Identity Operators\n",
    "   Identity operators compare the memory locations of two objects:\n",
    "   - is: Returns True if both operands refer to the same object (e.g., a is b is True if a and b reference the same object).\n",
    "   - is not: Returns True if the operands refer to different objects (e.g., a is not b is True if a and b reference different objects).\n",
    "\n",
    "7. Membership Operators\n",
    "   Membership operators test whether a value is a member of a sequence:\n",
    "   - in: Returns True if a value exists within a sequence (e.g., 'a' in 'apple' returns True).\n",
    "   - not in: Returns True if a value does not exist within a sequence (e.g., 'b' not in 'apple' returns True)"
   ]
  },
  {
   "cell_type": "code",
   "execution_count": null,
   "id": "57654aef-7bd3-43b4-b7e4-7e45b1477e54",
   "metadata": {},
   "outputs": [],
   "source": [
    "# Example of Arithmetic Operators\n",
    "a = 10\n",
    "b = 3\n",
    "\n",
    "addition = a + b        # 13\n",
    "subtraction = a - b     # 7\n",
    "multiplication = a * b  # 30\n",
    "division = a / b        # 3.333...\n",
    "\n",
    "# Example of Comparison (Relational) Operators\n",
    "is_equal = (a == b)        # False\n",
    "is_not_equal = (a != b)    # True\n",
    "is_greater = (a > b)       # True\n",
    "\n",
    "# Example of Logical Operators\n",
    "logical_and = (a > 5) and (b < 5)  # True\n",
    "logical_or = (a < 5) or (b > 2)    # True\n",
    "logical_not = not(a < b)           # True\n",
    "\n",
    "# Example of Bitwise Operators\n",
    "bitwise_and = a & b  # 2 (binary: 1010 & 0011 = 0010)\n",
    "bitwise_or = a | b   # 11 (binary: 1010 | 0011 = 1011)\n",
    "bitwise_xor = a ^ b  # 9 (binary: 1010 ^ 0011 = 1001)\n",
    "\n",
    "# Example of Assignment Operators\n",
    "x = 5\n",
    "x += 2   # 7 (Equivalent to: x = x + 2)\n",
    "x -= 1   # 6\n",
    "\n",
    "# Example of Identity Operators\n",
    "y = [10, 20]\n",
    "z = y\n",
    "\n",
    "is_identical = y is z           # True (y and z refer to the same object)\n",
    "is_not_identical = y is not a   # True (y and a refer to different objects)\n",
    "\n",
    "# Example of Membership Operators\n",
    "my_list = [1, 2, 3, 4, 5]\n",
    "is_in_list = 3 in my_list       # True\n",
    "is_not_in_list = 6 not in my_list # True\n"
   ]
  },
  {
   "cell_type": "markdown",
   "id": "0859c7b4-e648-408b-83fd-e06e3f1d9131",
   "metadata": {},
   "source": [
    "### 5. Describe type casting in python with example."
   ]
  },
  {
   "cell_type": "markdown",
   "id": "75227a17-df65-4e61-b2aa-e676f1768fae",
   "metadata": {},
   "source": [
    "Typecasting in Python refers to converting a variable from one data type to another. This can be done explicitly by the programmer using Python's built-in functions or implicitly by Python itself during operations that require compatible types."
   ]
  },
  {
   "cell_type": "code",
   "execution_count": null,
   "id": "dbe10ebb-963a-4e64-af16-07df287aaad3",
   "metadata": {},
   "outputs": [
    {
     "name": "stdout",
     "output_type": "stream",
     "text": [
      "123\n",
      "<class 'int'>\n"
     ]
    }
   ],
   "source": [
    "#Explicit Typecasting\n",
    "'''This involves manually converting one data type to another using specific functions like int(), float(), str(), etc.'''\n",
    "\n",
    "#Example:\n",
    "\n",
    "# Converting a string to an integer\n",
    "string_number = \"123\"\n",
    "int_number = int(string_number)\n",
    "\n",
    "print(int_number)  # Output: 123\n",
    "print(type(int_number))  # Output: <class 'int'>"
   ]
  },
  {
   "cell_type": "code",
   "execution_count": null,
   "id": "fa3f0b07-3793-433f-8f8d-04b0fcbcf313",
   "metadata": {},
   "outputs": [
    {
     "name": "stdout",
     "output_type": "stream",
     "text": [
      "12.5\n",
      "<class 'float'>\n"
     ]
    }
   ],
   "source": [
    "#Implicit Typecasting\n",
    "'''Python automatically converts one data type to another during an operation when necessary. This usually happens in expressions involving mixed types.'''\n",
    "\n",
    "#Example:\n",
    "\n",
    "# Implicit typecasting in an expression\n",
    "int_number = 10\n",
    "float_number = 2.5\n",
    "\n",
    "result = int_number + float_number\n",
    "\n",
    "print(result)  # Output: 12.5\n",
    "print(type(result))  # Output: <class 'float'>"
   ]
  },
  {
   "cell_type": "markdown",
   "id": "f9781f45-0beb-493b-b5d5-491e873b5863",
   "metadata": {},
   "source": [
    "### 6. What are conditional statements in python explain with example"
   ]
  },
  {
   "cell_type": "markdown",
   "id": "6dce8a4a-dc31-4b49-b2a4-3fe68859cf86",
   "metadata": {},
   "source": [
    "Conditional statements in Python allow you to execute code based on whether a certain condition is true or false. The most common conditional statements are if, elif, and else.\n",
    "\n",
    "\n",
    "Here’s a basic structure:\n",
    "\n",
    "\n",
    "if condition1:\n",
    "    # code block 1\n",
    "elif condition2:\n",
    "    # code block 2\n",
    "else:\n",
    "    # code block 3\n",
    "\n",
    "\n",
    "- if: Evaluates the first condition. If it's true, the code block under it executes.\n",
    "- elif: Stands for \"else if\". It checks another condition if the previous if condition was false.\n",
    "- else: Executes if none of the above conditions are true.\n"
   ]
  },
  {
   "cell_type": "code",
   "execution_count": null,
   "id": "e6804964-ea01-42a6-9977-f872b812e978",
   "metadata": {},
   "outputs": [
    {
     "name": "stdout",
     "output_type": "stream",
     "text": [
      "You just became an adult!\n"
     ]
    }
   ],
   "source": [
    "#Example:\n",
    "\n",
    "age = 18\n",
    "\n",
    "if age < 18:\n",
    "    print(\"You are a minor.\")\n",
    "elif age == 18:\n",
    "    print(\"You just became an adult!\")\n",
    "else:\n",
    "    print(\"You are an adult.\")\n"
   ]
  },
  {
   "cell_type": "markdown",
   "id": "7d2c1f0b-0647-4815-afe1-b334cd95e363",
   "metadata": {},
   "source": [
    "### 7. Describe the differnet types of loops in pyhton with their usecases with example."
   ]
  },
  {
   "cell_type": "markdown",
   "id": "e1b05246-aae8-41e9-b07c-15b8bed50826",
   "metadata": {},
   "source": [
    "In Python, there are primarily three types of loops: for, while, and nested loops. Each loop has its own specific use cases.\n",
    "\n",
    "\n",
    "\n",
    "1. for Loop\n",
    "\n",
    "The for loop in Python is used to iterate over a sequence (like a list, tuple, string, or range). It is commonly used when you know the number of iterations in advance.\n",
    "\n",
    "Syntax:\n",
    "\n",
    "for variable in sequence:\n",
    "\n",
    "    #code block\n",
    "    \n",
    "Use Case:\n",
    "- Iterating over elements of a list, string, or range.\n",
    "- Useful when the number of iterations is known beforehand.\n",
    "\n",
    "\n",
    "\n",
    "2. while Loop\n",
    "\n",
    "The while loop is used to repeatedly execute a block of code as long as a specified condition is True. It is useful when the number of iterations is not known in advance.\n",
    "\n",
    "Syntax:\n",
    "\n",
    "while condition:\n",
    "    \n",
    "    # code block\n",
    "\n",
    "Use Case:\n",
    "- Executing a block of code as long as a condition remains True.\n",
    "- Useful when you want to loop until a specific condition changes.\n",
    "\n",
    "\n",
    "\n",
    "3. Nested Loops:\n",
    "\n",
    "Nested loops are loops within loops. The inner loop runs completely whenever the outer loop runs once.\n",
    "\n",
    "Syntax:\n",
    "\n",
    "1#\n",
    "\n",
    "for i in range (1,11):\n",
    "    \n",
    "    for j in range(1,6):\n",
    "        \n",
    "        #action\n",
    "2#\n",
    "\n",
    "while(n<=10):\n",
    "    \n",
    "    while(j<+5):\n",
    "        \n",
    "        #action"
   ]
  },
  {
   "cell_type": "markdown",
   "id": "c7e23159-6b5b-48b9-ae6e-9eaf57167d77",
   "metadata": {},
   "source": [
    "Summary:\n",
    "\n",
    "- for loop: Best when you know the exact number of iterations.\n",
    "- while loop: Best when you don't know the number of iterations but have a condition to terminate.\n",
    "- Nested loops: Useful for multi-dimensional data or scenarios where you need to combine two or more sequences."
   ]
  },
  {
   "cell_type": "code",
   "execution_count": null,
   "id": "7b3b2e36-3dcc-413a-83d4-1389b3dc85f4",
   "metadata": {},
   "outputs": [
    {
     "name": "stdout",
     "output_type": "stream",
     "text": [
      "apple\n",
      "banana\n",
      "cherry\n",
      "Count is: 0\n",
      "Count is: 1\n",
      "Count is: 2\n",
      "Count is: 3\n",
      "Count is: 4\n",
      "i=1, j=1\n",
      "i=1, j=2\n",
      "i=1, j=3\n",
      "i=2, j=1\n",
      "i=2, j=2\n",
      "i=2, j=3\n",
      "i=3, j=1\n",
      "i=3, j=2\n",
      "i=3, j=3\n",
      "11\n",
      "12\n",
      "13\n",
      "14\n"
     ]
    }
   ],
   "source": [
    "#for loop Example:\n",
    "\n",
    "fruits = [\"apple\", \"banana\", \"cherry\"]\n",
    "for fruit in fruits:\n",
    "    print(fruit)\n",
    "\n",
    "\n",
    "#While loop Example:\n",
    "\n",
    "count = 0\n",
    "while count < 5:\n",
    "    print(\"Count is:\", count)\n",
    "    count += 1\n",
    "\n",
    "\n",
    "#Nested for loop Example:\n",
    "\n",
    "for i in range(1, 4):\n",
    "    for j in range(1, 4):\n",
    "        print(f\"i={i}, j={j}\")\n",
    "\n",
    "#Nexted while loop Example:\n",
    "\n",
    "i=1\n",
    "j=1\n",
    "while(i<=10):\n",
    "    while(j<+5):\n",
    "        print(f\"{i}{j}\")\n",
    "        j=j+1\n",
    "    i=i+1"
   ]
  },
  {
   "cell_type": "code",
   "execution_count": null,
   "id": "45fb0574-9efc-4fd6-8e80-014638291183",
   "metadata": {},
   "outputs": [],
   "source": []
  }
 ],
 "metadata": {
  "kernelspec": {
   "display_name": "Python 3 (ipykernel)",
   "language": "python",
   "name": "python3"
  },
  "language_info": {
   "codemirror_mode": {
    "name": "ipython",
    "version": 3
   },
   "file_extension": ".py",
   "mimetype": "text/x-python",
   "name": "python",
   "nbconvert_exporter": "python",
   "pygments_lexer": "ipython3",
   "version": "3.11.7"
  }
 },
 "nbformat": 4,
 "nbformat_minor": 5
}
