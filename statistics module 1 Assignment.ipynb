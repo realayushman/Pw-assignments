{
 "cells": [
  {
   "cell_type": "markdown",
   "id": "9732efb5-d9c6-4775-8ffe-35bdc8896c4d",
   "metadata": {},
   "source": [
    "# statistics module 1 Assignment"
   ]
  },
  {
   "cell_type": "markdown",
   "id": "52abceb4-54a5-4f06-888b-ad9a1070c290",
   "metadata": {},
   "source": [
    "#### 1. Explain the different types of data (qualitative and quantitative) and provide examples of each. Discuss nominal, ordinal, interval, and ratio scales."
   ]
  },
  {
   "cell_type": "markdown",
   "id": "a7c78b09-9950-49de-b64b-501ecaa87a75",
   "metadata": {},
   "source": [
    "Data is typically classified into two broad types: **qualitative (categorical)** and **quantitative (numerical)**. Here's a breakdown of each type and their associated measurement scales:\n",
    "\n",
    "### 1. Qualitative (Categorical) Data\n",
    "Qualitative data describes qualities or characteristics and is non-numeric. It’s generally used to categorize or label attributes and can’t be measured with numbers in a meaningful way.\n",
    "\n",
    "#### Types of Qualitative Data\n",
    "   - **Nominal Scale**: Nominal data is the simplest form of categorical data. It represents categories without any inherent order or ranking. Examples include:\n",
    "     - **Gender**: male, female, non-binary\n",
    "     - **Blood type**: A, B, AB, O\n",
    "     - **Marital status**: single, married, divorced, widowed\n",
    "\n",
    "   - **Ordinal Scale**: Ordinal data represents categories with a meaningful order or ranking, but the differences between the ranks aren’t consistent or meaningful. Examples include:\n",
    "     - **Survey responses**: agree, neutral, disagree\n",
    "     - **Education levels**: high school, bachelor's, master's, Ph.D.\n",
    "     - **Pain level**: mild, moderate, severe\n",
    "\n",
    "### 2. Quantitative (Numerical) Data\n",
    "Quantitative data represents quantities and can be measured numerically. This type of data can be used for arithmetic operations, such as addition and subtraction.\n",
    "\n",
    "#### Types of Quantitative Data\n",
    "   - **Interval Scale**: Interval data has ordered, equally spaced intervals between values but lacks a true zero point, which means ratios aren’t meaningful. Examples include:\n",
    "     - **Temperature**: in Celsius or Fahrenheit (0°C does not mean \"no temperature\")\n",
    "     - **IQ scores**: where the difference between scores is meaningful but there’s no true zero\n",
    "\n",
    "   - **Ratio Scale**: Ratio data is similar to interval data but includes a true zero point, which allows for the computation of ratios. Examples include:\n",
    "     - **Height**: 0 cm means no height, and a person who is 180 cm tall is twice as tall as someone who is 90 cm.\n",
    "     - **Weight**: 0 kg represents no weight, and 10 kg is twice as much as 5 kg.\n",
    "     - **Income**: where $0 means no income, and $50,000 is half of $100,000.\n",
    "\n",
    "### Summary\n",
    "- **Qualitative Data**: Nominal (unordered categories), Ordinal (ordered categories).\n",
    "- **Quantitative Data**: Interval (ordered with meaningful intervals, no true zero), Ratio (ordered with meaningful intervals and true zero). \n",
    "\n",
    "Understanding these types and scales helps in choosing the correct statistical methods for data analysis."
   ]
  },
  {
   "cell_type": "markdown",
   "id": "b80fc1de-b70c-46aa-85a9-06e7c4827ea5",
   "metadata": {},
   "source": [
    "#### 2. What are the measures of central tendency, and when should you use each? Discuss the mean, median,and mode with examples and situations where each is appropriate.3. Explain the concept of dispersion. How do variance and standard deviation measure the spread of data? "
   ]
  },
  {
   "cell_type": "markdown",
   "id": "8570bd5c-a12e-4a6d-ad5d-dbff5f144930",
   "metadata": {},
   "source": [
    "Mean: The mean (average) is the sum of all data points divided by the number of points. It’s best used when the data is symmetrically distributed with no extreme outliers.\n",
    "\n",
    "Example: In scores like 70, 75, 80, 85, and 90, the mean would be 80.\n",
    "Median: The median is the middle value when data points are ordered. It’s less affected by outliers, making it ideal for skewed distributions.\n",
    "\n",
    "Example: In the set 3, 5, 7, 9, and 100, the median is 7, which better represents the center without the influence of 100.\n",
    "Mode: The mode is the most frequently occurring value. It’s especially useful in categorical data.\n",
    "\n",
    "Example: In the set of grades: A, B, B, C, C, C, and D, the mode is C."
   ]
  },
  {
   "cell_type": "markdown",
   "id": "cf1c1d0a-901b-46c1-9c8f-d78e60384d30",
   "metadata": {},
   "source": [
    "#### 3. Explain the concept of dispersion. How do variance and standard deviation measure the spread of data?"
   ]
  },
  {
   "cell_type": "markdown",
   "id": "433ca14c-a21f-4122-bc93-9e9d8e507e71",
   "metadata": {},
   "source": [
    "Concept of Dispersion, Variance, and Standard Deviation\n",
    "Dispersion refers to the spread of values in a dataset. Variance and standard deviation are two key metrics:\n",
    "\n",
    "Variance: Measures the average squared differences from the mean. High variance means data points are more spread out.\n",
    "Standard Deviation: The square root of variance, it represents dispersion in the same units as the data.\n",
    "Example: In the dataset {2, 4, 4, 4, 5, 5, 7, 9}, variance and standard deviation help quantify how close values are to the mean."
   ]
  },
  {
   "cell_type": "markdown",
   "id": "c4e17953-c3fd-4f61-bd1b-abf401579dcd",
   "metadata": {},
   "source": [
    "#### 4. What is a box plot, and what can it tell you about the distribution of data?"
   ]
  },
  {
   "cell_type": "markdown",
   "id": "9a0a2b62-f527-4b09-ad03-2c82d228dfe8",
   "metadata": {},
   "source": [
    "4. Box Plot and Data Distribution\n",
    "A box plot (box-and-whisker plot) visualizes data distribution, showing the median, quartiles, and potential outliers. The \"box\" shows the interquartile range (IQR), and \"whiskers\" extend to the minimum and maximum values within 1.5*IQR.\n",
    "\n",
    "Interpretation: A box plot helps identify skewness, outliers, and general data spread."
   ]
  },
  {
   "cell_type": "markdown",
   "id": "7c71ed82-d06c-4fc3-99ab-fc125fc9bc77",
   "metadata": {},
   "source": [
    "#### 5. Discuss the role of random sampling in making inferences about populations."
   ]
  },
  {
   "cell_type": "markdown",
   "id": "48eb4c42-8b06-493c-a79a-ba4b139c9fa4",
   "metadata": {},
   "source": [
    "5. Role of Random Sampling in Inferences\n",
    "Random sampling allows each member of a population an equal chance of selection, which is crucial for creating representative samples. It supports making accurate inferences about a population by minimizing bias and improving generalizability."
   ]
  },
  {
   "cell_type": "markdown",
   "id": "43ed87be-3721-4b2f-ae85-888b3060763a",
   "metadata": {},
   "source": [
    "#### 6. Explain the concept of skewness and its types. How does skewness affect the interpretation of data? "
   ]
  },
  {
   "cell_type": "markdown",
   "id": "16bcc1f8-ee9f-444a-acc6-95109ed2dd3f",
   "metadata": {},
   "source": [
    "6. Concept of Skewness and Types\n",
    "Skewness measures the asymmetry of data distribution:\n",
    "\n",
    "Positive Skew: Tail on the right, with more values on the left. The mean is greater than the median.\n",
    "Negative Skew: Tail on the left, with more values on the right. The mean is less than the median.\n",
    "Skewness affects how we interpret the mean and median; in skewed distributions, the median may better represent central tendency."
   ]
  },
  {
   "cell_type": "markdown",
   "id": "a2aebc4d-bc8e-4114-93b1-bc8f4ee238e8",
   "metadata": {},
   "source": [
    "#### 7. What is the interquartile range (IQR), and how is it used to detect outliers?"
   ]
  },
  {
   "cell_type": "markdown",
   "id": "b62d7546-eed4-480d-b720-3f7f5b3e4be7",
   "metadata": {},
   "source": [
    "7. Interquartile Range (IQR) and Outlier Detection\n",
    "The IQR is the range between the first (Q1) and third (Q3) quartiles, representing the middle 50% of the data. Outliers can be detected if they fall below Q1 - 1.5IQR or above Q3 + 1.5IQR.\n",
    "\n",
    "Example: If Q1 = 10 and Q3 = 20, IQR = 10. Any values below -5 or above 35 are outliers.\n"
   ]
  },
  {
   "cell_type": "markdown",
   "id": "e4d79dcd-7ad2-45af-a94c-3d7e56e6449e",
   "metadata": {},
   "source": [
    "#### 8. Discuss the conditions under which the binomial distribution is used."
   ]
  },
  {
   "cell_type": "markdown",
   "id": "bcdad208-6be8-4394-b96d-2542b31a9838",
   "metadata": {},
   "source": [
    "8. Conditions for the Binomial Distribution\n",
    "The binomial distribution applies when:\n",
    "\n",
    "There are a fixed number of trials.\n",
    "Each trial has two possible outcomes.\n",
    "The probability of success is constant.\n",
    "Trials are independent.\n",
    "Example: Counting the number of heads in 10 coin flips is binomial."
   ]
  },
  {
   "cell_type": "markdown",
   "id": "f94ae25f-86c3-4444-ac09-f99d46f3b7af",
   "metadata": {},
   "source": [
    "#### "
   ]
  },
  {
   "cell_type": "markdown",
   "id": "5ba76e40-7a53-40bd-a704-3e1bc1bc2a49",
   "metadata": {},
   "source": [
    "9. Properties of the Normal Distribution and Empirical Rule (68-95-99.7 Rule)\n",
    "The normal distribution is symmetric around the mean, with data tapering off equally on both sides.\n",
    "\n",
    "Empirical Rule:\n",
    "68% of data falls within 1 standard deviation of the mean.\n",
    "95% within 2 standard deviations.\n",
    "99.7% within 3 standard deviations."
   ]
  },
  {
   "cell_type": "markdown",
   "id": "2ac0493b-14fa-4155-a49e-b34f8b695015",
   "metadata": {},
   "source": [
    "####"
   ]
  },
  {
   "cell_type": "markdown",
   "id": "1ad77d39-e634-4f1a-af57-77f2ef82df8e",
   "metadata": {},
   "source": [
    "10. Real-Life Poisson Process Example\n",
    "The Poisson distribution models the probability of a certain number of events occurring within a fixed interval, given a constant average rate and independent occurrences.\n",
    "\n",
    "Example: If a call center gets 5 calls per hour on average, the probability of receiving exactly 3 calls in an hour can be calculated using the Poisson formula: \n",
    "𝑃(𝑋=𝑘)=𝜆𝑘𝑒−𝜆𝑘!P(X=k)= k!ke −λ\n",
    " ​, where 𝜆=5λ=5 and 𝑘=3k=3."
   ]
  },
  {
   "cell_type": "markdown",
   "id": "61379ac3-7aed-41a7-8b63-8aac4d3c2674",
   "metadata": {},
   "source": [
    "####"
   ]
  },
  {
   "cell_type": "markdown",
   "id": "28b50a5b-c016-427b-8459-32f6af692175",
   "metadata": {},
   "source": [
    "11. Random Variables: Discrete vs. Continuous\n",
    "A random variable represents a numerical outcome of a random process:\n",
    "\n",
    "Discrete: Takes specific values (e.g., the number of heads in 10 coin flips).\n",
    "Continuous: Takes any value within a range (e.g., weight or height)"
   ]
  },
  {
   "cell_type": "markdown",
   "id": "aa2a1a09-4dc1-4d34-81f2-e7219e852b99",
   "metadata": {},
   "source": [
    "####"
   ]
  },
  {
   "cell_type": "markdown",
   "id": "5dce29ec-f375-4730-b475-5423a0547a11",
   "metadata": {},
   "source": [
    "12. Covariance and Correlation Example\n",
    "Covariance measures how two variables change together, while correlation normalizes this measure between -1 and 1, showing the strength and direction of a linear relationship.\n",
    "\n",
    "Example Dataset:\n",
    "css\n",
    "Copy code\n",
    "X = [2, 4, 6, 8]\n",
    "Y = [10, 20, 30, 40]\n",
    "After calculating, suppose we find a high positive correlation close to 1, indicating a strong, positive relationship between X and Y."
   ]
  }
 ],
 "metadata": {
  "kernelspec": {
   "display_name": "Python 3 (ipykernel)",
   "language": "python",
   "name": "python3"
  },
  "language_info": {
   "codemirror_mode": {
    "name": "ipython",
    "version": 3
   },
   "file_extension": ".py",
   "mimetype": "text/x-python",
   "name": "python",
   "nbconvert_exporter": "python",
   "pygments_lexer": "ipython3",
   "version": "3.11.7"
  }
 },
 "nbformat": 4,
 "nbformat_minor": 5
}
