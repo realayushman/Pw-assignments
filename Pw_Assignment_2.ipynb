{
 "cells": [
  {
   "cell_type": "markdown",
   "id": "f7527238-9585-46f0-b0d4-5e3959cc9d69",
   "metadata": {},
   "source": [
    "# Pw_Assignment_2"
   ]
  },
  {
   "cell_type": "markdown",
   "id": "2e93229a-74a8-4ac7-817a-5f997d99806b",
   "metadata": {},
   "source": [
    "## 1. Discuss String slicing and provide examples."
   ]
  },
  {
   "cell_type": "markdown",
   "id": "74cc238c-3f5f-45cc-9c45-0f6e3e9e3874",
   "metadata": {},
   "source": [
    "String slicing in Python is a technique that allows you to access a portion of a string by specifying a range of indices. This is useful when you want to extract or manipulate specific parts of a string. The general syntax for slicing is:\n",
    "\n",
    "syntax:\n",
    "string[start:stop:step]\n",
    "\n",
    "\n",
    "- start: The starting index of the slice (inclusive). If omitted, it defaults to 0.\n",
    "- stop: The ending index of the slice (exclusive). The slice will include elements up to, but not including, this index. If omitted, it defaults to the length of the string.\n",
    "- step: The step or stride between each index. If omitted, it defaults to 1.\n",
    "\n",
    "Examples:"
   ]
  },
  {
   "cell_type": "code",
   "execution_count": 2,
   "id": "52b8ff6d-0efe-43b8-94f3-12bbbcb50c25",
   "metadata": {},
   "outputs": [
    {
     "name": "stdout",
     "output_type": "stream",
     "text": [
      "Hello\n"
     ]
    }
   ],
   "source": [
    "# 1. Basic Slicing:\n",
    "text = \"Hello, World!\"\n",
    "print(text[0:5])"
   ]
  },
  {
   "cell_type": "markdown",
   "id": "af69a209-d97b-447f-8205-ae644894e11a",
   "metadata": {},
   "source": [
    "- This extracts characters from index 0 to 4."
   ]
  },
  {
   "cell_type": "code",
   "execution_count": 9,
   "id": "57147e30-d26b-44d0-9541-d5b72a43b3aa",
   "metadata": {},
   "outputs": [
    {
     "name": "stdout",
     "output_type": "stream",
     "text": [
      "Hello\n",
      "World!\n"
     ]
    }
   ],
   "source": [
    "#2. Omitting Start and Stop:\n",
    "\n",
    "text = \"Hello, World!\"\n",
    "print(text[:5])\n",
    "print(text[7:])"
   ]
  },
  {
   "cell_type": "markdown",
   "id": "7a5d7ace-87e6-4cdc-a109-ab4bd30151b1",
   "metadata": {},
   "source": [
    "- text[:5] extracts from the start to index 4.\n",
    "- text[7:] extracts from index 7 to the end."
   ]
  },
  {
   "cell_type": "code",
   "execution_count": 11,
   "id": "eb617bbf-5dc7-4fe8-b98c-9a68c5d7fcfb",
   "metadata": {},
   "outputs": [
    {
     "name": "stdout",
     "output_type": "stream",
     "text": [
      "Hlo ol!\n"
     ]
    }
   ],
   "source": [
    "#3. Using a Step:\n",
    "\n",
    "text = \"Hello, World!\"\n",
    "print(text[::2])"
   ]
  },
  {
   "cell_type": "markdown",
   "id": "72dc1066-aa12-4784-a8ea-6c3cc9838319",
   "metadata": {},
   "source": [
    "- This extracts every second character from the string."
   ]
  },
  {
   "cell_type": "code",
   "execution_count": 12,
   "id": "8a210b15-c641-4451-8323-3b3c778751b0",
   "metadata": {},
   "outputs": [
    {
     "name": "stdout",
     "output_type": "stream",
     "text": [
      "!dlro\n"
     ]
    }
   ],
   "source": [
    "#4. Negative Indices and Step:\n",
    "\n",
    "text = \"Hello, World!\"\n",
    "print(text[-1:-6:-1]) "
   ]
  },
  {
   "cell_type": "markdown",
   "id": "8fc969b3-0745-43c5-9698-c815b8a5ca41",
   "metadata": {},
   "source": [
    "- Negative indices count from the end of the string.\n",
    "- -1 is the last character, -6 is the sixth-to-last character, and -1 as a step means moving backward."
   ]
  },
  {
   "cell_type": "code",
   "execution_count": 14,
   "id": "51355dd9-716b-47ac-9d68-9a038324ae8f",
   "metadata": {},
   "outputs": [
    {
     "name": "stdout",
     "output_type": "stream",
     "text": [
      "!dlroW ,olleH\n"
     ]
    }
   ],
   "source": [
    "#5. Reversing a String:\n",
    "\n",
    "text = \"Hello, World!\"\n",
    "print(text[::-1])"
   ]
  },
  {
   "cell_type": "markdown",
   "id": "4fbd774c-906c-4298-85fe-729ab1717359",
   "metadata": {},
   "source": [
    "- This uses slicing to reverse the string."
   ]
  },
  {
   "cell_type": "code",
   "execution_count": 15,
   "id": "6a5600ae-7adf-4ee0-b48d-9f9b8f5d52a6",
   "metadata": {},
   "outputs": [
    {
     "name": "stdout",
     "output_type": "stream",
     "text": [
      "Year: 2024, Month: 08, Day: 28\n"
     ]
    }
   ],
   "source": [
    "#Example Use Case:\n",
    "\n",
    "'''Suppose you have a string representing a date in the format YYYYMMDD, and you want to extract the year, month, and day separately.'''\n",
    "\n",
    "date = \"20240828\"\n",
    "year = date[:4] \n",
    "month = date[4:6] \n",
    "day = date[6:]\n",
    "\n",
    "print(f\"Year: {year}, Month: {month}, Day: {day}\")"
   ]
  },
  {
   "cell_type": "markdown",
   "id": "51d3d4f7-d508-46ad-8732-676f13c0fedc",
   "metadata": {},
   "source": [
    "## 2. Explain the key features of lists in python."
   ]
  },
  {
   "cell_type": "markdown",
   "id": "f1c38170-72f8-4f9b-ae05-95e01a4d26e2",
   "metadata": {},
   "source": [
    "Lists in Python are one of the most versatile and commonly used data structures. Here are the key features:\n",
    "\n",
    "1. *Ordered Collection*: Lists maintain the order of elements. The elements have a defined sequence, and they can be accessed using their index positions.\n",
    "\n",
    "2. *Mutable*: Lists are mutable, meaning you can change their content after creation. You can add, remove, or modify elements.\n",
    "\n",
    "3. *Heterogeneous Elements*: Lists can contain elements of different data types, such as integers, strings, floats, or even other lists.\n",
    "\n",
    "4. *Dynamic Size*: Python lists are dynamic, so you can add or remove elements without worrying about the size of the list.\n",
    "\n",
    "5. *Indexing and Slicing*: Lists support indexing and slicing, allowing you to access and manipulate specific elements or a range of elements within the list.\n",
    "\n",
    "6. *Iteration*: You can easily iterate through a list using loops, which makes it simple to perform operations on each element.\n",
    "\n",
    "7. *Built-in Methods*: Python provides a rich set of built-in methods for lists, such as append(), remove(), pop(), sort(), reverse(), and many more, which help in performing various operations.\n",
    "\n",
    "8. *Nested Lists*: Lists can contain other lists as elements, allowing you to create complex data structures like matrices or trees.\n",
    "\n",
    "9. *Membership Testing*: You can check if an element is present in a list using the in keyword.\n",
    "\n",
    "10. *Comprehensions*: List comprehensions provide a concise way to create lists based on existing lists, with optional filtering and transformation.\n",
    "\n",
    "Lists in Python are powerful and flexible, making them essential for various programming tasks."
   ]
  },
  {
   "cell_type": "markdown",
   "id": "57255a75-f8dd-4f64-9935-9e2b6a7c588e",
   "metadata": {},
   "source": [
    "## 1. Explain how to access, modefy and delete elements in a list in python."
   ]
  },
  {
   "cell_type": "markdown",
   "id": "555ce0cc-0dee-4384-9b6b-c398a11cd024",
   "metadata": {},
   "source": [
    "Accessing Elements in a List:\n",
    "\n",
    "You can access elements in a list using their index. Python uses zero-based indexing, meaning the first element is at index 0, the second at 1, and so on.\n"
   ]
  },
  {
   "cell_type": "code",
   "execution_count": 3,
   "id": "0b4c5873-03cf-4523-b4ac-21c7c1edafe7",
   "metadata": {},
   "outputs": [
    {
     "name": "stdout",
     "output_type": "stream",
     "text": [
      "apple\n",
      "cherry\n",
      "cherry\n",
      "banana\n"
     ]
    }
   ],
   "source": [
    "#Example:\n",
    "\n",
    "fruits = ['apple', 'banana', 'cherry']\n",
    "print(fruits[0])  # Output: apple\n",
    "print(fruits[2])  # Output: cherry\n",
    "\n",
    "\n",
    "#Negative Indexing:\n",
    "'''You can also use negative indices to access elements from the end of the list.'''\n",
    "print(fruits[-1])  # Output: cherry\n",
    "print(fruits[-2])  # Output: banana"
   ]
  },
  {
   "cell_type": "markdown",
   "id": "1d2da4f3-a6f9-458f-9735-eeca5520f354",
   "metadata": {},
   "source": [
    "Modifying Elements in a List:\n",
    "\n",
    "You can modify an element in a list by assigning a new value to the specific index."
   ]
  },
  {
   "cell_type": "code",
   "execution_count": 4,
   "id": "7509c0c2-713c-49c6-ab2e-b439656961ae",
   "metadata": {},
   "outputs": [
    {
     "name": "stdout",
     "output_type": "stream",
     "text": [
      "['apple', 'blueberry', 'cherry']\n"
     ]
    }
   ],
   "source": [
    "#Example:\n",
    "fruits[1] = 'blueberry'\n",
    "print(fruits)  # Output: ['apple', 'blueberry', 'cherry']"
   ]
  },
  {
   "cell_type": "markdown",
   "id": "bbecba24-e382-4a7c-b300-3cf9291e22d5",
   "metadata": {},
   "source": [
    "\n",
    "Deleting Elements from a List:\n",
    "\n",
    "There are several ways to delete elements from a list:"
   ]
  },
  {
   "cell_type": "code",
   "execution_count": 6,
   "id": "a81a0d04-560d-48f7-ad49-4855a2cd8662",
   "metadata": {},
   "outputs": [
    {
     "name": "stdout",
     "output_type": "stream",
     "text": [
      "['blueberry', 'cherry']\n"
     ]
    }
   ],
   "source": [
    "#1. Using del statement**: Removes an element by index.\n",
    "  \n",
    "#Example:\n",
    "\n",
    "del fruits[0]\n",
    "print(fruits)  # Output: ['blueberry', 'cherry']"
   ]
  },
  {
   "cell_type": "code",
   "execution_count": 7,
   "id": "771c6cb1-d7c6-4fc0-b242-0e08cab3c38e",
   "metadata": {},
   "outputs": [
    {
     "name": "stdout",
     "output_type": "stream",
     "text": [
      "['blueberry']\n"
     ]
    }
   ],
   "source": [
    "#2. Using remove() method**: Removes the first occurrence of a value.\n",
    "   \n",
    "#Example:\n",
    "fruits.remove('cherry')\n",
    "print(fruits)  # Output: ['blueberry']\n",
    " "
   ]
  },
  {
   "cell_type": "code",
   "execution_count": 9,
   "id": "92c76126-0462-47d6-b0c6-3f6dd2897125",
   "metadata": {},
   "outputs": [
    {
     "name": "stdout",
     "output_type": "stream",
     "text": [
      "blueberry\n",
      "[]\n"
     ]
    }
   ],
   "source": [
    "#3. Using pop() method**: Removes and returns an element at a given index. If no index is specified, it removes and returns the last element.\n",
    "   \n",
    "#Example:\n",
    "last_fruit = fruits.pop()\n",
    "print(last_fruit)  # Output: blueberry\n",
    "print(fruits)      # Output: []"
   ]
  },
  {
   "cell_type": "code",
   "execution_count": 12,
   "id": "3c9916aa-b6fd-4e1a-9ffb-af44b0eb2114",
   "metadata": {},
   "outputs": [
    {
     "name": "stdout",
     "output_type": "stream",
     "text": [
      "[]\n"
     ]
    },
    {
     "data": {
      "text/plain": [
       "'These operations provide you with a lot of flexibility in managing and manipulating lists in Python.'"
      ]
     },
     "execution_count": 12,
     "metadata": {},
     "output_type": "execute_result"
    }
   ],
   "source": [
    "#4. Clearing the Entire List*: The clear() method removes all elements from the list.\n",
    "\n",
    "#Example:\n",
    "fruits = ['apple', 'banana', 'cherry']\n",
    "fruits.clear()\n",
    "print(fruits)  # Output: []\n",
    "   \n",
    "\n",
    "'''These operations provide you with a lot of flexibility in managing and manipulating lists in Python.'''"
   ]
  },
  {
   "cell_type": "markdown",
   "id": "54d325d2-ea94-4151-bfbf-706f304f3909",
   "metadata": {},
   "source": [
    "## 4. Compare and contrast lists with touples with examples."
   ]
  },
  {
   "cell_type": "markdown",
   "id": "07bdb489-def3-4cc1-bba3-9220fca75e68",
   "metadata": {},
   "source": [
    "### Tuples vs. Lists in Python\n",
    "\n",
    "Both tuples and lists are sequence data types in Python, but they have distinct characteristics. Here's a comparison of their features:\n",
    "\n",
    "#### 1. *Mutability*\n",
    "- Lists: Mutable. You can modify, add, or remove elements after the list is created.\n",
    "- Tuples: Immutable. Once a tuple is created, you cannot modify its contents.\n",
    "\n",
    "#### 2. *Syntax*\n",
    "- Lists: Defined using square brackets [].\n",
    "- Tuples: Defined using parentheses ().\n",
    "\n",
    "#### 3. *Performance*\n",
    "- Lists: Slightly slower than tuples due to their mutable nature, which requires more memory and overhead for operations like insertion and deletion.\n",
    "- Tuples: Faster than lists because of their immutability, making them a better choice when a constant set of values is needed.\n",
    "\n",
    "#### 4. *Use Cases*\n",
    "- *Lists*: Suitable for scenarios where the data may change over time, such as when you need to perform operations like sorting, appending, or removing elements.\n",
    "- Tuples*: Ideal for fixed collections of items, especially when the data should not change, like coordinates, constant values, or when used as dictionary keys.\n",
    "\n",
    "#### 5. *Functions and Methods*\n",
    "- *Lists*: Have a variety of built-in methods such as append(), remove(), pop(), sort(), and more for modifying the list.\n",
    "- *Tuples*: Have fewer methods because they are immutable. They mainly support operations like count() and index().\n",
    "\n",
    "#### 6. *Length*\n",
    "- *Lists*: Can dynamically grow and shrink as elements are added or removed.\n",
    "- *Tuples*: Fixed size once created; their length cannot change.\n",
    "\n",
    "#### 7. *Memory Usage*\n",
    "- *Lists*: Generally use more memory due to the need to accommodate dynamic resizing.\n",
    "- *Tuples*: Use less memory, making them more efficient for large datasets of fixed size.\n",
    "\n",
    "### Summary\n",
    "\n",
    "- *Use Lists* when you need a collection of items that can change over time.\n",
    "- *Use Tuples* when you have a collection of items that should remain constant and immutable.\n",
    "\n",
    "Both are useful in different contexts, and the choice between them depends on the specific requirements of your task."
   ]
  },
  {
   "cell_type": "code",
   "execution_count": 14,
   "id": "f03bf45e-64ab-4050-b2e6-d833703660cd",
   "metadata": {},
   "outputs": [
    {
     "name": "stdout",
     "output_type": "stream",
     "text": [
      "[10, 2, 3]\n"
     ]
    }
   ],
   "source": [
    "#1. *Mutability*\n",
    "\n",
    "#Example:\n",
    "# List (Mutable)\n",
    "my_list = [1, 2, 3]\n",
    "my_list[0] = 10\n",
    "print(my_list)  # Output: [10, 2, 3]\n",
    "\n",
    "# Tuple (Immutable)\n",
    "my_tuple = (1, 2, 3)\n",
    "# my_tuple[0] = 10  # This will raise a TypeError"
   ]
  },
  {
   "cell_type": "code",
   "execution_count": 16,
   "id": "223f58ac-6b0a-414a-b43b-d29d816dd51e",
   "metadata": {},
   "outputs": [],
   "source": [
    "#Syntax\n",
    "#Example:\n",
    "\n",
    "# List\n",
    "my_list = [1, 2, 3]\n",
    "\n",
    "# Tuple\n",
    "my_tuple = (1, 2, 3)"
   ]
  },
  {
   "cell_type": "code",
   "execution_count": 17,
   "id": "6a3790e8-c4bd-4da6-883d-ad1971e43b29",
   "metadata": {},
   "outputs": [
    {
     "name": "stdout",
     "output_type": "stream",
     "text": [
      "['apple', 'banana', 'cherry', 'orange']\n",
      "(10.0, 20.0)\n"
     ]
    }
   ],
   "source": [
    "#Example:\n",
    "# List Example (Shopping cart where items may change)\n",
    "shopping_cart = ['apple', 'banana', 'cherry']\n",
    "shopping_cart.append('orange')\n",
    "print(shopping_cart)  # Output: ['apple', 'banana', 'cherry', 'orange']\n",
    "\n",
    "# Tuple Example (Coordinates that shouldn't change)\n",
    "coordinates = (10.0, 20.0)\n",
    "print(coordinates)  # Output: (10.0, 20.0)"
   ]
  },
  {
   "cell_type": "code",
   "execution_count": 18,
   "id": "08539bad-1212-4bfe-8a3a-4458d60f1343",
   "metadata": {},
   "outputs": [
    {
     "name": "stdout",
     "output_type": "stream",
     "text": [
      "[1, 2, 3]\n",
      "1\n"
     ]
    }
   ],
   "source": [
    "#functions and methods\n",
    "#Example:\n",
    "\n",
    "# List Methods\n",
    "my_list = [3, 1, 2]\n",
    "my_list.sort()\n",
    "print(my_list)  # Output: [1, 2, 3]\n",
    "\n",
    "# Tuple Methods\n",
    "my_tuple = (3, 1, 2)\n",
    "print(my_tuple.index(1))  # Output: 1"
   ]
  },
  {
   "cell_type": "code",
   "execution_count": 19,
   "id": "22215cd9-0080-47da-a83c-246b36a066a7",
   "metadata": {},
   "outputs": [
    {
     "name": "stdout",
     "output_type": "stream",
     "text": [
      "3\n",
      "3\n"
     ]
    }
   ],
   "source": [
    "#length\n",
    "#Example:\n",
    "\n",
    "# List Length\n",
    "my_list = [1, 2]\n",
    "my_list.append(3)\n",
    "print(len(my_list))  # Output: 3\n",
    "\n",
    "# Tuple Length\n",
    "my_tuple = (1, 2, 3)\n",
    "print(len(my_tuple))  # Output: 3\n",
    "\n"
   ]
  },
  {
   "cell_type": "markdown",
   "id": "cfee4ea3-cba4-45ea-98fa-988393c80ec5",
   "metadata": {},
   "source": [
    "## 5. Describe key features of sets and explain their use cases."
   ]
  },
  {
   "cell_type": "markdown",
   "id": "79469e5e-acb8-4934-b6d5-aa1ac4f0c6c2",
   "metadata": {},
   "source": [
    " Key Features of Sets in Python\n",
    "\n",
    "1. Unordered Collection: Sets are unordered, meaning that the elements in a set do not have a specific position or order.\n",
    "\n",
    "2. Unique Elements: Sets automatically eliminate duplicate elements. Every element in a set is unique.\n",
    "\n",
    "3. Mutable: While the elements in a set must be immutable (e.g., integers, strings, tuples), the set itself is mutable, allowing you to add or remove elements.\n",
    "\n",
    "4. No Indexing or Slicing: Since sets are unordered, they do not support indexing, slicing, or other sequence-like behavior.\n",
    "\n",
    "5. Efficient Membership Testing: Sets provide an efficient way to check if an element exists within the set, with average time complexity of O(1).\n",
    "\n",
    "6. Set Operations: Sets support mathematical operations like union, intersection, difference, and symmetric difference.\n",
    "\n",
    " Use Cases for Sets\n",
    "\n",
    "1. Removing Duplicates: Sets are useful when you need to remove duplicates from a list or any other collection.\n",
    "\n",
    "2. Membership Testing: Sets are highly efficient for checking whether an element is part of a collection.\n",
    "\n",
    "3. Mathematical Set Operations: If you need to perform union, intersection, or difference between collections, sets provide a straightforward way to do this.\n",
    "\n",
    "4. Data Analysis: In scenarios where you need to compare different datasets, sets can be used to find common or unique items between them.\n"
   ]
  },
  {
   "cell_type": "code",
   "execution_count": 1,
   "id": "b6dda80c-fcdc-4ed5-81e2-5aeb77f5cde6",
   "metadata": {},
   "outputs": [
    {
     "name": "stdout",
     "output_type": "stream",
     "text": [
      "True\n"
     ]
    }
   ],
   "source": [
    "\n",
    "### Python Code Examples\n",
    "\n",
    "# Creating a set\n",
    "my_set = {1, 2, 3, 4, 5}\n",
    "\n",
    "# Adding an element to a set\n",
    "my_set.add(6)\n",
    "\n",
    "# Removing an element from a set\n",
    "my_set.remove(3)\n",
    "\n",
    "# Membership testing\n",
    "print(4 in my_set)  # Output: True\n",
    "\n",
    "# Union of sets\n",
    "set_a = {1, 2, 3}\n",
    "set_b = {3, 4, 5}\n",
    "union_set = set_a | set_b  # Output: {1, 2, 3, 4, 5}\n",
    "\n",
    "# Intersection of sets\n",
    "intersection_set = set_a & set_b  # Output: {3}\n",
    "\n",
    "# Difference of sets\n",
    "difference_set = set_a - set_b  # Output: {1, 2}\n",
    "\n",
    "# Symmetric Difference of sets\n",
    "symmetric_difference_set = set_a ^ set_b  # Output: {1, 2, 4, 5}"
   ]
  },
  {
   "cell_type": "markdown",
   "id": "15de18e9-03ca-450c-83b5-40c2b16a6713",
   "metadata": {},
   "source": [
    "## 6. Discuss the use cases of touples in sets in python."
   ]
  },
  {
   "cell_type": "markdown",
   "id": "480a4928-028f-4885-a651-e6785a7733ed",
   "metadata": {},
   "source": [
    "Tuples in Python:\n",
    "\n",
    "Definition:\n",
    "A tuple is an immutable sequence of Python objects. Once a tuple is created, its elements cannot be changed, added, or removed. Tuples are defined by placing items inside parentheses () and separated by commas.\n",
    "\n",
    "Use Cases:\n",
    "1. Data Integrity: Since tuples are immutable, they are ideal for storing data that should not change throughout the program, like fixed configurations.\n",
    "2. Heterogeneous Data: Tuples can store multiple items of different data types, which makes them suitable for returning multiple values from a function.\n",
    "3. Dictionary Keys: Tuples can be used as keys in dictionaries since they are hashable, unlike lists.\n",
    "4. Performance: Tuples are more memory-efficient compared to lists. They have a slightly faster access time.\n",
    "\n",
    "#### Sets in Python\n",
    "\n",
    "Definition:\n",
    "A set is an unordered collection of unique items. Sets are mutable, but the elements themselves must be immutable. Sets are defined by placing items inside curly braces {} or by using the set() function.\n",
    "\n",
    "Use Cases:\n",
    "1. Removing Duplicates: Sets automatically discard duplicate values, making them useful for filtering out repeated items in a list.\n",
    "2. Membership Testing: Sets provide fast membership checking, so they are efficient for checking whether an element exists in a collection.\n",
    "3. Set Operations: Sets support mathematical operations like union, intersection, difference, and symmetric difference, which are useful in problems involving collections of data.\n",
    "4. Unique Collections: Use sets when you need to maintain a collection of distinct items, such as unique user IDs.\n",
    "\n",
    "Python Program Example\n",
    "\n",
    "Here's a Python program that demonstrates the use cases of tuples and sets:"
   ]
  },
  {
   "cell_type": "code",
   "execution_count": 4,
   "id": "37f2b8c0-069a-4a32-a408-d730a92c2e55",
   "metadata": {},
   "outputs": [
    {
     "name": "stdout",
     "output_type": "stream",
     "text": [
      "Configuration: ('localhost', 8080, 'production')\n",
      "User Info: ('John Doe', 28, 'Engineer')\n",
      "Location Data: {('New York', 'USA'): 'Eastern Time', ('Los Angeles', 'USA'): 'Pacific Time'}\n",
      "Unique Items: {1, 2, 3, 4, 5}\n",
      "3 is in the unique items set\n",
      "Union: {1, 2, 3, 4, 5, 6}\n",
      "Intersection: {3, 4}\n",
      "Difference: {1, 2}\n"
     ]
    }
   ],
   "source": [
    "# Tuples\n",
    "\n",
    "# 1. Data Integrity - Configuration Settings (Immutable Data)\n",
    "config = ('localhost', 8080, 'production')\n",
    "print(f\"Configuration: {config}\")\n",
    "\n",
    "# 2. Heterogeneous Data - Function Returning Multiple Values\n",
    "def get_user_info():\n",
    "    return (\"John Doe\", 28, \"Engineer\")\n",
    "\n",
    "user_info = get_user_info()\n",
    "print(f\"User Info: {user_info}\")\n",
    "\n",
    "# 3. Dictionary Keys - Tuples as keys in a dictionary\n",
    "location_data = {\n",
    "    (\"New York\", \"USA\"): \"Eastern Time\",\n",
    "    (\"Los Angeles\", \"USA\"): \"Pacific Time\"\n",
    "}\n",
    "print(f\"Location Data: {location_data}\")\n",
    "\n",
    "# Sets\n",
    "\n",
    "# 1. Removing Duplicates - Unique items from a list\n",
    "items = [1, 2, 3, 1, 2, 4, 5]\n",
    "unique_items = set(items)\n",
    "print(f\"Unique Items: {unique_items}\")\n",
    "\n",
    "# 2. Membership Testing - Check if an item exists in the set\n",
    "if 3 in unique_items:\n",
    "    print(\"3 is in the unique items set\")\n",
    "\n",
    "# 3. Set Operations - Union, Intersection, Difference\n",
    "set_a = {1, 2, 3, 4}\n",
    "set_b = {3, 4, 5, 6}\n",
    "\n",
    "union_set = set_a.union(set_b)\n",
    "intersection_set = set_a.intersection(set_b)\n",
    "difference_set = set_a.difference(set_b)\n",
    "\n",
    "print(f\"Union: {union_set}\")\n",
    "print(f\"Intersection: {intersection_set}\")\n",
    "print(f\"Difference: {difference_set}\")"
   ]
  },
  {
   "cell_type": "markdown",
   "id": "e3bc4b2b-7393-48ee-8118-c99ea3872cd8",
   "metadata": {},
   "source": [
    "Explanation:\n",
    "\n",
    "1. Tuples:\n",
    "   - Config: Represents configuration data that should remain constant.\n",
    "   - get_user_info: Demonstrates returning multiple values of different types.\n",
    "   - location_data: Uses tuples as dictionary keys for storing related pairs (city, country).\n",
    "\n",
    "2. Sets:\n",
    "   - unique_items: Removes duplicates from a list.\n",
    "   - Membership Testing: Checks whether a specific element is in the set.\n",
    "   - Set Operations: Demonstrates union, intersection, and difference operations on two sets."
   ]
  },
  {
   "cell_type": "markdown",
   "id": "c328ff20-57b5-4284-8df8-a61f92da482a",
   "metadata": {},
   "source": [
    "## 7. Describe how to add, modify and delete elements in dictionary in python with eaxmple."
   ]
  },
  {
   "cell_type": "markdown",
   "id": "a88eca10-58cc-45f7-9ddc-238c98ae8a14",
   "metadata": {},
   "source": [
    "###Theory\n",
    "\n",
    "A dictionary in Python is a mutable, unordered collection of key-value pairs. Each key in a dictionary is unique, and the keys are used to store and retrieve corresponding values. \n",
    "\n",
    "#### Adding Items\n",
    "To add a new item (key-value pair) to a dictionary, you simply assign a value to a new key:\n",
    "\n",
    "python\n",
    "dictionary[key] = value\n",
    "\n",
    "- If the key already exists, the value associated with that key is updated.\n",
    "\n",
    "#### Modifying Items\n",
    "To modify an existing item in a dictionary, you use the key to assign a new value:\n",
    "\n",
    "python\n",
    "dictionary[key] = new_value\n",
    "\n",
    "- If the key exists, the value will be updated with the new value.\n",
    "\n",
    "#### Deleting Items\n",
    "To delete an item from a dictionary, you can use several methods:\n",
    "\n",
    "1. **del statement:**\n",
    "   python\n",
    "   del dictionary[key]\n",
    "   \n",
    "   - Removes the key-value pair associated with the specified key.\n",
    "   - Raises a KeyError if the key does not exist.\n",
    "\n",
    "2. **pop() method:**\n",
    "   python\n",
    "   value = dictionary.pop(key)\n",
    "   \n",
    "   - Removes the key-value pair and returns the value associated with the key.\n",
    "   - Allows specifying a default value to return if the key does not exist.\n",
    "\n",
    "3. **popitem() method:**\n",
    "   python\n",
    "   key, value = dictionary.popitem()\n",
    "   \n",
    "   - Removes and returns the last inserted key-value pair as a tuple.\n",
    "   - Raises a KeyError if the dictionary is empty.\n",
    "\n",
    "4. **clear() method:**\n",
    "   python\n",
    "   dictionary.clear()\n",
    "   \n",
    "   - Removes all items from the dictionary, leaving it empty.\n",
    "\n",
    "### Python Program Example\n",
    "\n",
    "Here's a Python program that demonstrates how to add, modify, and delete items in a dictionary:"
   ]
  },
  {
   "cell_type": "code",
   "execution_count": 9,
   "id": "c7800497-e58f-4bcc-a340-857d45daf17a",
   "metadata": {},
   "outputs": [
    {
     "name": "stdout",
     "output_type": "stream",
     "text": [
      "Initial Dictionary: {'Alice': 85, 'Bob': 90, 'Charlie': 78}\n",
      "After Adding David: {'Alice': 85, 'Bob': 90, 'Charlie': 78, 'David': 92}\n",
      "After Modifying Alice's Grade: {'Alice': 88, 'Bob': 90, 'Charlie': 78, 'David': 92}\n",
      "After Deleting Charlie: {'Alice': 88, 'Bob': 90, 'David': 92}\n",
      "After Popping Bob: {'Alice': 88, 'David': 92}\n",
      "Bob's Grade: 90\n",
      "After Popping Last Item: {'Alice': 88}\n",
      "Last Item: ('David', 92)\n",
      "After Clearing Dictionary: {}\n"
     ]
    }
   ],
   "source": [
    "# Creating a dictionary\n",
    "student_grades = {\"Alice\": 85, \"Bob\": 90, \"Charlie\": 78}\n",
    "print(\"Initial Dictionary:\", student_grades)\n",
    "\n",
    "# Adding Items\n",
    "student_grades[\"David\"] = 92  # Add a new key-value pair\n",
    "print(\"After Adding David:\", student_grades)\n",
    "\n",
    "# Modifying Items\n",
    "student_grades[\"Alice\"] = 88  # Modify the value of an existing key\n",
    "print(\"After Modifying Alice's Grade:\", student_grades)\n",
    "\n",
    "# Deleting Items\n",
    "# 1. Using del statement\n",
    "del student_grades[\"Charlie\"]  # Delete a specific key-value pair\n",
    "print(\"After Deleting Charlie:\", student_grades)\n",
    "\n",
    "# 2. Using pop() method\n",
    "bob_grade = student_grades.pop(\"Bob\")  # Remove and return the value of a specific key\n",
    "print(\"After Popping Bob:\", student_grades)\n",
    "print(\"Bob's Grade:\", bob_grade)\n",
    "\n",
    "# 3. Using popitem() method\n",
    "last_item = student_grades.popitem()  # Remove and return the last key-value pair\n",
    "print(\"After Popping Last Item:\", student_grades)\n",
    "print(\"Last Item:\", last_item)\n",
    "\n",
    "# 4. Using clear() method\n",
    "student_grades.clear()  # Clear all items from the dictionary\n",
    "print(\"After Clearing Dictionary:\", student_grades)"
   ]
  },
  {
   "cell_type": "markdown",
   "id": "e000f1c2-3c52-4ac1-9c08-2143e9d97439",
   "metadata": {},
   "source": [
    "### Explanation:\n",
    "\n",
    "1. *Adding Items:*\n",
    "   - student_grades[\"David\"] = 92: Adds a new entry with the key \"David\" and value 92.\n",
    "\n",
    "2. *Modifying Items:*\n",
    "   - student_grades[\"Alice\"] = 88: Updates the value of the existing key \"Alice\" to 88.\n",
    "\n",
    "3. *Deleting Items:*\n",
    "   - del student_grades[\"Charlie\"]: Deletes the key-value pair for \"Charlie\".\n",
    "   - student_grades.pop(\"Bob\"): Removes the key \"Bob\" and returns the associated value 90.\n",
    "   - student_grades.popitem(): Removes the last item (key \"David\" and value 92) from the dictionary.\n",
    "   - student_grades.clear(): Clears the entire dictionary, leaving it empty."
   ]
  },
  {
   "cell_type": "markdown",
   "id": "22cbad56-2810-406e-9799-55f01302ce91",
   "metadata": {},
   "source": [
    "## 8. Discuss the importance of dictionary keys being immutable and provide example."
   ]
  },
  {
   "cell_type": "markdown",
   "id": "58326caf-2634-4779-a143-8a6dd3de847e",
   "metadata": {},
   "source": [
    "### Theory\n",
    "\n",
    "#### Importance of Dictionary Keys Being Immutable\n",
    "\n",
    "In Python, dictionary keys must be immutable because they need to maintain their hash value throughout the lifetime of the dictionary. The hash value of an object is used to quickly compare dictionary keys during lookup operations. If a key were mutable, its value could change after it is inserted into the dictionary, leading to inconsistencies and errors during key retrieval.\n",
    "\n",
    "*Immutability and Hashing:*\n",
    "- *Immutability:* Immutable objects (like strings, numbers, and tuples) cannot be changed once created. This property ensures that their hash value remains constant, making them safe to use as dictionary keys.\n",
    "- *Hashing:* The dictionary relies on the hash() function to assign a hash value to each key. This hash value determines where the key-value pair will be stored in memory. If the key's value changed, the hash would change, and the dictionary would no longer be able to find the correct location of the key-value pair.\n",
    "\n",
    "*Examples of Immutable Types:*\n",
    "- *Strings:* \"apple\"\n",
    "- *Numbers:* 42\n",
    "- *Tuples:* (\"name\", \"age\")\n",
    "\n",
    "*Examples of Mutable Types (Not Allowed as Dictionary Keys):*\n",
    "- *Lists:* [\"apple\", \"banana\"]\n",
    "- *Dictionaries:* {\"key\": \"value\"}\n",
    "- *Sets:* {1, 2, 3}\n",
    "\n",
    "Using a mutable object as a dictionary key would raise a TypeError.\n",
    "\n",
    "### Python Program Example\n",
    "\n",
    "Here's a Python program that demonstrates the importance of dictionary keys being immutable:"
   ]
  },
  {
   "cell_type": "code",
   "execution_count": null,
   "id": "27dd8815-063d-4eae-b47f-f88d94f7c6ac",
   "metadata": {},
   "outputs": [],
   "source": [
    "# Immutable types as dictionary keys\n",
    "\n",
    "# Using strings as keys\n",
    "fruit_prices = {\"apple\": 2.99, \"banana\": 1.49}\n",
    "print(\"Fruit Prices:\", fruit_prices)\n",
    "\n",
    "# Using numbers as keys\n",
    "squares = {1: 1, 2: 4, 3: 9, 4: 16}\n",
    "print(\"Squares:\", squares)\n",
    "\n",
    "# Using tuples as keys (composite keys)\n",
    "student_grades = {(\"John\", \"Math\"): 85, (\"Alice\", \"Science\"): 90}\n",
    "print(\"Student Grades:\", student_grades)\n",
    "\n",
    "# Attempting to use a mutable type (list) as a dictionary key\n",
    "try:\n",
    "    invalid_dict = {[\"key1\", \"key2\"]: \"value\"}\n",
    "except TypeError as e:\n",
    "    print(\"Error:\", e)\n",
    "\n",
    "# Demonstrating issues with mutable keys (if they were allowed)\n",
    "# For illustration purposes only; this code would raise an error.\n",
    "# mutable_key = [\"apple\", \"banana\"]\n",
    "# fruit_prices = {mutable_key: 2.99}\n",
    "# print(\"Before Modification:\", fruit_prices)\n",
    "# mutable_key[0] = \"orange\"  # Modifying the key (if it were allowed)\n",
    "# print(\"After Modification:\", fruit_prices)\n"
   ]
  },
  {
   "cell_type": "code",
   "execution_count": null,
   "id": "c6edd27e-074c-4230-b0f7-add96923871e",
   "metadata": {},
   "outputs": [],
   "source": []
  }
 ],
 "metadata": {
  "kernelspec": {
   "display_name": "Python 3 (ipykernel)",
   "language": "python",
   "name": "python3"
  },
  "language_info": {
   "codemirror_mode": {
    "name": "ipython",
    "version": 3
   },
   "file_extension": ".py",
   "mimetype": "text/x-python",
   "name": "python",
   "nbconvert_exporter": "python",
   "pygments_lexer": "ipython3",
   "version": "3.11.7"
  }
 },
 "nbformat": 4,
 "nbformat_minor": 5
}
