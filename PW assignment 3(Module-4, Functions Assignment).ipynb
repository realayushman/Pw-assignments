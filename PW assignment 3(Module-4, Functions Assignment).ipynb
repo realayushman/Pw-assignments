{
 "cells": [
  {
   "cell_type": "markdown",
   "id": "c62ef950-5212-4bff-8b0f-facf2c9b324a",
   "metadata": {},
   "source": [
    "# PW assignment 3(Module-4, Functions Assignment)"
   ]
  },
  {
   "cell_type": "markdown",
   "id": "417b6f63-422d-4028-a33b-5232bb0781b0",
   "metadata": {},
   "source": [
    "## Theory Part:"
   ]
  },
  {
   "cell_type": "markdown",
   "id": "6b0c8e75-b628-491b-a46f-c16881643ecd",
   "metadata": {},
   "source": [
    "#### 1. What is the difference between function and a method in pyhton?"
   ]
  },
  {
   "cell_type": "markdown",
   "id": "1b50b550-6c31-4927-9625-60d62b0aa355",
   "metadata": {},
   "source": [
    "- *Function:*\n",
    "  - A function is a block of reusable code that performs a specific task. It can be defined using the def keyword and is independent of any object.\n",
    "  - Functions are not tied to any class or object, and they can be called directly by their name.\n",
    "\n",
    "- *Method:*\n",
    "  - A method is a function that is associated with an object, typically a class instance. It is defined within a class and is called on an instance of that class or the class itself (in the case of class methods).\n",
    "  - Methods have access to the instance (through self) and can interact with the object's state.\n",
    "  "
   ]
  },
  {
   "cell_type": "code",
   "execution_count": 19,
   "id": "5356af69-cd83-4e0d-b320-3a0f07097a96",
   "metadata": {},
   "outputs": [
    {
     "name": "stdout",
     "output_type": "stream",
     "text": [
      "10\n",
      "10\n"
     ]
    }
   ],
   "source": [
    "#Example\n",
    "\n",
    "#Function:\n",
    "def my_function(x):\n",
    "    return x * 2\n",
    "  \n",
    "\n",
    "#Method:\n",
    "class MyClass:\n",
    "    def my_method(self, x):\n",
    "        return x * 2\n",
    "\n",
    "obj = MyClass()\n",
    "result = obj.my_method(5)  # Calls the method on the instance 'obj'\n",
    "print(my_function(5))\n",
    "print(result)"
   ]
  },
  {
   "cell_type": "markdown",
   "id": "7bf68888-4f43-4d32-b69a-eeacb752cfbd",
   "metadata": {},
   "source": [
    "#### 2. Explain the concept of function arguments and parameters in python."
   ]
  },
  {
   "cell_type": "markdown",
   "id": "43eba5f4-a985-4767-9049-aa306687217d",
   "metadata": {},
   "source": [
    "- *Parameters:*\n",
    "  - Parameters are variables listed in the function definition. They act as placeholders for the values that will be passed to the function.\n",
    "  - Parameters define what kind of input the function expects.\n",
    "\n",
    "- *Arguments:*\n",
    "  - Arguments are the actual values or data you pass to a function when you call it. They correspond to the parameters defined in the function.\n",
    "\n",
    "- *Types of Arguments:*\n",
    "  1. *Positional Arguments:* Passed in the same order as the parameters.\n",
    "  2. *Keyword Arguments:* Passed by explicitly specifying the parameter names.\n",
    "  3. *Default Arguments:* Parameters can have default values if no argument is provided.\n",
    "  4. *Variable-Length Arguments:* Used when you don’t know in advance how many arguments will be passed. *args is for non-keyword variable-length arguments, and **kwargs is for keyword variable-length arguments.  "
   ]
  },
  {
   "cell_type": "code",
   "execution_count": 4,
   "id": "a38cdac0-4e8d-4d70-ac31-c07ae221453e",
   "metadata": {},
   "outputs": [
    {
     "name": "stdout",
     "output_type": "stream",
     "text": [
      "Hello, Bob. You are 25 years old.\n",
      "Hello, Charlie. You are 18 years old.\n",
      "Arguments: (1, 2, 3)\n",
      "Keyword arguments: {'name': 'Dave', 'age': 40}\n"
     ]
    }
   ],
   "source": [
    "#Example\n",
    "\n",
    "#Parameters and Positional Arguments:\n",
    "def add(x, y):  # 'x' and 'y' are parameters\n",
    "    return x + y\n",
    "\n",
    "result = add(5, 3)  # 5 and 3 are positional arguments\n",
    "  \n",
    "\n",
    "#Keyword Arguments:\n",
    "def greet(name, age):\n",
    "    print(f\"Hello, {name}. You are {age} years old.\")\n",
    "\n",
    "greet(name=\"Bob\", age=25)  # Using keyword arguments\n",
    "  \n",
    "\n",
    "#Default Arguments:\n",
    "def greet(name, age=18):\n",
    "   print(f\"Hello, {name}. You are {age} years old.\")\n",
    "\n",
    "greet(\"Charlie\")  # Uses the default value for age\n",
    "  \n",
    "\n",
    "#Variable-Length Arguments:\n",
    "def print_info(*args, **kwargs):\n",
    "    print(\"Arguments:\", args)\n",
    "    print(\"Keyword arguments:\", kwargs)\n",
    "\n",
    "print_info(1, 2, 3, name=\"Dave\", age=40)"
   ]
  },
  {
   "cell_type": "markdown",
   "id": "c88debf5-1d47-4eef-8854-a32e75beb480",
   "metadata": {},
   "source": [
    "#### 3. What are the different ways to define and call a function in python?"
   ]
  },
  {
   "cell_type": "markdown",
   "id": "d729716c-dc88-4cc7-b967-db05a8c0eb2f",
   "metadata": {},
   "source": [
    "1. *Regular Function Definition:*  \n",
    "   A function is defined using the def keyword, followed by the function name and parentheses (). The body contains the code that the function will execute when called.\n",
    "\n",
    "2. *Function with Parameters:*  \n",
    "   Functions can accept parameters (arguments) that allow you to pass values to the function. These values are specified inside the parentheses when defining and calling the function.\n",
    "\n",
    "3. *Function with Return Value:*  \n",
    "   A function can return a value using the return keyword. This allows the function to send a result back to the caller.\n",
    "\n",
    "4. *Default Parameters:*  \n",
    "   Default parameter values can be assigned in the function definition. If an argument is not provided when the function is called, the default value is used.\n",
    "\n",
    "5. **Arbitrary Arguments (*args):**  \n",
    "   Using *args, you can pass a variable number of positional arguments to a function. These arguments are packed into a tuple.\n",
    "\n",
    "6. **Keyword Arguments (**kwargs):**  \n",
    "   Using **kwargs, you can pass a variable number of keyword arguments to a function. These arguments are stored in a dictionary, where the keys are the argument names and the values are the arguments passed.\n",
    "\n",
    "7. *Lambda Functions:*  \n",
    "   Lambda functions are anonymous, one-line functions that can be defined using the lambda keyword. They are typically used for simple, short operations."
   ]
  },
  {
   "cell_type": "code",
   "execution_count": 5,
   "id": "8848f374-7e6f-41b6-9a85-ba07b33e2824",
   "metadata": {},
   "outputs": [
    {
     "name": "stdout",
     "output_type": "stream",
     "text": [
      "Hello!\n",
      "Hello, Batman!\n",
      "8\n"
     ]
    }
   ],
   "source": [
    "#Examples (All Together)\n",
    "\n",
    "# 1. Regular Function Definition\n",
    "def greet():\n",
    "    print(\"Hello!\")\n",
    "\n",
    "greet()  # Output: Hello!\n",
    "\n",
    "# 2. Function with Parameters\n",
    "def greet(name):\n",
    "    print(f\"Hello, {name}!\")\n",
    "\n",
    "greet(\"Batman\")  # Output: Hello, Batman!\n",
    "\n",
    "# 3. Lambda Functions\n",
    "add = lambda x, y: x + y\n",
    "\n",
    "result = add(5, 3)\n",
    "print(result)  # Output: 8"
   ]
  },
  {
   "cell_type": "markdown",
   "id": "0286f102-afee-42c0-acd7-1d7ef81a2bc7",
   "metadata": {},
   "source": [
    "#### 4. What is the purpose of the return statement in a python function?"
   ]
  },
  {
   "cell_type": "markdown",
   "id": "52ba0985-08f4-48ce-b1e1-9208271cfb23",
   "metadata": {},
   "source": [
    "The return statement in a Python function is used to send the result of the function back to the caller. When a function executes a return statement, the function exits, and the value specified after the return keyword is passed back to the point where the function was called. Without a return statement, a function will return None by default. The return statement can also be used to return multiple values by separating them with commas."
   ]
  },
  {
   "cell_type": "code",
   "execution_count": 6,
   "id": "3009e3fe-fbca-441d-9a06-2f34ddebd832",
   "metadata": {},
   "outputs": [
    {
     "name": "stdout",
     "output_type": "stream",
     "text": [
      "8\n",
      "Batman\n",
      "19\n"
     ]
    }
   ],
   "source": [
    "#Example\n",
    "\n",
    "# Function with return statement\n",
    "def add(a, b):\n",
    "    return a + b\n",
    "\n",
    "result = add(5, 3)  # The function returns 8 and assigns it to 'result'\n",
    "print(result)  # Output: 8\n",
    "\n",
    "\n",
    "# Function with multiple return values\n",
    "def get_details():\n",
    "    return \"Batman\", 19\n",
    "\n",
    "name, age = get_details()  # The function returns two values\n",
    "print(name)  # Output: Batman\n",
    "print(age)   # Output: 19\n"
   ]
  },
  {
   "cell_type": "markdown",
   "id": "e5f1627b-b1a3-4062-8d3c-342c8e4eed0f",
   "metadata": {},
   "source": [
    "#### 5. What are iterators in python and how do they differ from iterables?"
   ]
  },
  {
   "cell_type": "markdown",
   "id": "2ff0f2de-0d18-4c34-9c87-6a570214d181",
   "metadata": {},
   "source": [
    "- *Iterables:*  \n",
    "  An *iterable* is any Python object capable of returning its members one at a time. Examples of iterables include lists, tuples, strings, and dictionaries. An object is considered iterable if it implements the __iter__() method or supports iteration using a for loop. You can generate an iterator from an iterable using the iter() function.\n",
    "\n",
    "- *Iterators:*  \n",
    "  An *iterator* is an object that represents a stream of data. It retains its current position while iterating through the elements and can only move forward (one element at a time). An iterator is created by implementing the __iter__() and __next__() methods. The __next__() method retrieves the next item from the iterator and raises a StopIteration exception when no more items are available."
   ]
  },
  {
   "cell_type": "code",
   "execution_count": 9,
   "id": "cb77b941-da6e-4a70-9383-c4f1de130b2f",
   "metadata": {},
   "outputs": [
    {
     "name": "stdout",
     "output_type": "stream",
     "text": [
      "1\n",
      "2\n",
      "3\n",
      "1\n",
      "2\n",
      "3\n"
     ]
    }
   ],
   "source": [
    "#Example\n",
    "\n",
    "# Example of an iterable (list)\n",
    "my_list = [1, 2, 3]\n",
    "for item in my_list:  # This list is iterable\n",
    "    print(item)\n",
    "\n",
    "# Converting an iterable into an iterator\n",
    "my_iterator = iter(my_list)\n",
    "\n",
    "# Example of an iterator (using __next__ method)\n",
    "print(next(my_iterator))  # Output: 1\n",
    "print(next(my_iterator))  # Output: 2\n",
    "print(next(my_iterator))  # Output: 3\n",
    "\n",
    "# After all elements are exhausted, StopIteration is raised\n",
    "# print(next(my_iterator))  # This will raise StopIteration\n"
   ]
  },
  {
   "cell_type": "markdown",
   "id": "8ee7bad4-1d48-47f6-9467-0eb1c97dff4a",
   "metadata": {},
   "source": [
    "#### 6. Explain the concept of generators in python and how they are defined?"
   ]
  },
  {
   "cell_type": "markdown",
   "id": "af801d33-f505-48f7-a1ae-1150492d4f7a",
   "metadata": {},
   "source": [
    "\n",
    "In Python, a generator is a special type of iterator that allows you to iterate over a sequence of values lazily, meaning the values are generated on the fly and only when needed. Unlike regular functions that return a single value using the return statement, a generator uses the yield keyword to return a value and pause its execution, maintaining its state between each yield. The generator can be resumed from where it left off each time next() is called.\n",
    "\n",
    "Generators are memory-efficient because they generate one item at a time instead of loading the entire sequence into memory. They are typically used in cases where dealing with large datasets or streams of data.\n",
    "\n",
    "There are two main ways to define generators in Python:\n",
    "1. *Generator Functions:* Use the yield statement inside a function to turn it into a generator.\n",
    "2. *Generator Expressions:* Similar to list comprehensions but with parentheses instead of square brackets."
   ]
  },
  {
   "cell_type": "code",
   "execution_count": 10,
   "id": "1c8f52b6-996b-449c-a11d-15f796d502f0",
   "metadata": {},
   "outputs": [
    {
     "name": "stdout",
     "output_type": "stream",
     "text": [
      "1\n",
      "2\n",
      "3\n",
      "0\n",
      "1\n",
      "4\n",
      "9\n"
     ]
    }
   ],
   "source": [
    "#Example\n",
    "\n",
    "# Example of a Generator Function\n",
    "def my_generator():\n",
    "    yield 1\n",
    "    yield 2\n",
    "    yield 3\n",
    "\n",
    "# Using the generator function\n",
    "gen = my_generator()\n",
    "print(next(gen))  # Output: 1\n",
    "print(next(gen))  # Output: 2\n",
    "print(next(gen))  # Output: 3\n",
    "\n",
    "# StopIteration will be raised if we call next again since the generator is exhausted\n",
    "\n",
    "# Example of a Generator Expression\n",
    "squares = (x * x for x in range(4))\n",
    "\n",
    "# Iterating over the generator expression\n",
    "for num in squares:\n",
    "    print(num)\n",
    "    "
   ]
  },
  {
   "cell_type": "markdown",
   "id": "1b250488-7514-4a04-98fc-8724cb2195ba",
   "metadata": {},
   "source": [
    "#### 7. What are the advantages of using generators over regular functions?"
   ]
  },
  {
   "cell_type": "markdown",
   "id": "168dc5cf-1b22-4af2-8d6a-a59077443248",
   "metadata": {},
   "source": [
    "Generators offer several advantages over regular functions, especially when dealing with large datasets or continuous streams of data. The primary benefits include:\n",
    "\n",
    "1. *Memory Efficiency:*  \n",
    "   Generators are more memory-efficient than regular functions because they yield values one at a time, instead of generating and storing the entire sequence in memory. This makes them ideal for working with large datasets or infinite sequences.\n",
    "\n",
    "2. *Lazy Evaluation:*  \n",
    "   Generators produce values only when they are needed (lazy evaluation), which means they don’t compute values until requested by the next() function or a loop. This leads to efficient performance, especially in situations where not all values in the sequence are required at once.\n",
    "\n",
    "3. *Improved Performance:*  \n",
    "   Since generators generate items on the fly and maintain their state between iterations, they often lead to faster execution when compared to functions that return lists or other collections.\n",
    "\n",
    "4. *Infinite Sequences:*  \n",
    "   Generators can handle infinite sequences (such as generating an endless stream of data) because they don't store the data in memory. Regular functions would crash or exhaust memory when trying to generate an infinite sequence.\n",
    "\n",
    "5. *State Retention:*  \n",
    "   Generators automatically retain their state between successive calls to yield, meaning there's no need to manage the state manually in each iteration.\n",
    "\n",
    "6. *Simpler Code:*  \n",
    "   Generators can simplify complex iterator-based code, making it easier to read and maintain when compared to manually maintaining the state of an iterator using regular functions."
   ]
  },
  {
   "cell_type": "code",
   "execution_count": 11,
   "id": "12a8710c-76d8-4be5-8a34-1d99eca72741",
   "metadata": {},
   "outputs": [],
   "source": [
    "#Example\n",
    "\n",
    "# Regular Function (Memory Intensive)\n",
    "def generate_list(n):\n",
    "    return [i for i in range(n)]  # Creates and stores the entire list in memory\n",
    "\n",
    "large_list = generate_list(10**6)  # Memory-heavy for large n\n",
    "\n",
    "# Generator Function (Memory Efficient)\n",
    "def generate_numbers(n):\n",
    "    for i in range(n):\n",
    "        yield i  # Generates numbers one by one\n",
    "\n",
    "numbers_gen = generate_numbers(10**6)  # Memory-light even for large n"
   ]
  },
  {
   "cell_type": "markdown",
   "id": "ea0810d7-5df1-4db4-aa5c-aa8c93066ad1",
   "metadata": {},
   "source": [
    "#### 8. What is a lambda function in python and when is it typically used?"
   ]
  },
  {
   "cell_type": "markdown",
   "id": "b0ccca2b-c900-40ae-8fde-85475fafb434",
   "metadata": {},
   "source": [
    "A *lambda function* in Python is a small, anonymous function defined using the lambda keyword. Unlike regular functions, lambda functions can have only a single expression and do not require the def keyword or a name. They can take any number of arguments but must only have one expression, which is evaluated and returned.\n",
    "\n",
    "Lambda functions are often used in situations where a small function is required for a short period and defining a full function using def would be unnecessary or overly verbose. They are typically used in contexts like filtering, mapping, sorting, or when passing functions as arguments to other functions.\n",
    "\n",
    "*Syntax of a Lambda Function*\n",
    "lambda arguments: expression\n",
    "\n",
    "- *arguments:* The values passed to the function.\n",
    "- *expression:* The single expression to be evaluated and returned.\n",
    "\n",
    "*When to Use Lambda Functions:*\n",
    "1. *Short-term Use:*  \n",
    "   When you need a simple function for a limited scope or task, such as performing operations on elements in a list or passing a small function as an argument to another function.\n",
    "   \n",
    "2. *Higher-order Functions:*  \n",
    "   Commonly used with functions like map(), filter(), and sorted() which require a function as an argument.\n",
    "   \n",
    "3. *Avoiding Defining Functions:*  \n",
    "   When defining a full function using def would be unnecessary or add verbosity to the code."
   ]
  },
  {
   "cell_type": "code",
   "execution_count": 14,
   "id": "1ee3853b-28fc-48f4-9dc7-f3dfb47fa620",
   "metadata": {},
   "outputs": [
    {
     "name": "stdout",
     "output_type": "stream",
     "text": [
      "8\n",
      "[1, 4, 9, 16]\n",
      "[2, 4]\n",
      "[(1, 'one'), (3, 'three'), (2, 'two')]\n"
     ]
    }
   ],
   "source": [
    "#Examples\n",
    "\n",
    "# Example 1: Lambda function to add two numbers\n",
    "add = lambda x, y: x + y\n",
    "result = add(5, 3)\n",
    "print(result)  # Output: 8\n",
    "\n",
    "# Example 2: Using lambda with map to square all elements in a list\n",
    "numbers = [1, 2, 3, 4]\n",
    "squared_numbers = list(map(lambda x: x * x, numbers))\n",
    "print(squared_numbers)  # Output: [1, 4, 9, 16]\n",
    "\n",
    "# Example 3: Using lambda with filter to filter even numbers\n",
    "even_numbers = list(filter(lambda x: x % 2 == 0, numbers))\n",
    "print(even_numbers)  # Output: [2, 4]\n",
    "\n",
    "# Example 4: Sorting a list of tuples based on the second element using lambda\n",
    "pairs = [(1, 'one'), (2, 'two'), (3, 'three')]\n",
    "sorted_pairs = sorted(pairs, key=lambda x: x[1])\n",
    "print(sorted_pairs)  # Output: [(1, 'one'), (3, 'three'), (2, 'two')]\n"
   ]
  },
  {
   "cell_type": "markdown",
   "id": "d2d9d938-14df-49b4-ae34-9ebe5984d876",
   "metadata": {},
   "source": [
    "#### 9. Explain the purpose and usage of map() function in python."
   ]
  },
  {
   "cell_type": "markdown",
   "id": "522ed7c4-4af8-4817-8326-f8b06e5cca6a",
   "metadata": {},
   "source": [
    "\n",
    "The map() function in Python is used to apply a given function to each item in an iterable (like a list or a tuple) and return an iterator that produces the results. The map() function is useful for performing a transformation on all items in an iterable without using explicit loops.\n",
    "\n",
    "*Syntax*\n",
    "map(function, iterable, ...)\n",
    "\n",
    "\n",
    "- *function:* The function to be applied to each item in the iterable. This function is applied to each element of the iterable in turn.\n",
    "- *iterable:* The iterable whose elements are processed by the function. You can pass more than one iterable to map(), in which case the function should take as many arguments as there are iterables.\n",
    "\n",
    "*Usage*\n",
    "\n",
    "1. *Transforming Data:*  \n",
    "   When you need to apply a transformation to each element in a list or other iterable, such as converting values to a different format.\n",
    "\n",
    "2. *Functional Programming:*  \n",
    "   map() fits well with functional programming paradigms, providing a concise way to perform operations on iterables.\n",
    "\n",
    "3. *Combining Iterables:*  \n",
    "   When multiple iterables are passed, map() applies the function in parallel to corresponding elements from each iterable."
   ]
  },
  {
   "cell_type": "code",
   "execution_count": 16,
   "id": "9f703052-4866-45d9-8f83-3c46156da70b",
   "metadata": {},
   "outputs": [
    {
     "name": "stdout",
     "output_type": "stream",
     "text": [
      "[1, 4, 9, 16]\n",
      "['APPLE', 'BANANA', 'CHERRY']\n",
      "[5, 7, 9]\n"
     ]
    }
   ],
   "source": [
    "#Examples\n",
    "\n",
    "# Example 1: Applying a function to each item in a list\n",
    "numbers = [1, 2, 3, 4]\n",
    "squared_numbers = map(lambda x: x * x, numbers)\n",
    "print(list(squared_numbers))  # Output: [1, 4, 9, 16]\n",
    "\n",
    "# Example 2: Converting a list of strings to uppercase\n",
    "words = ['apple', 'banana', 'cherry']\n",
    "upper_words = map(str.upper, words)\n",
    "print(list(upper_words))  # Output: ['APPLE', 'BANANA', 'CHERRY']\n",
    "\n",
    "# Example 3: Using map with multiple iterables\n",
    "list1 = [1, 2, 3]\n",
    "list2 = [4, 5, 6]\n",
    "sums = map(lambda x, y: x + y, list1, list2)\n",
    "print(list(sums))  # Output: [5, 7, 9]"
   ]
  },
  {
   "cell_type": "markdown",
   "id": "c75ffdc0-44e7-4752-ac16-df200c073dd0",
   "metadata": {},
   "source": [
    "#### 10. What is the difference between map(), filter() and reduce() function in python? "
   ]
  },
  {
   "cell_type": "markdown",
   "id": "d9570a7f-a0d0-4d91-b243-4dc60b39b5a5",
   "metadata": {},
   "source": [
    "\n",
    "map(), filter(), and reduce() are higher-order functions in Python used for processing iterables. Each has a distinct purpose and usage:\n",
    "\n",
    "1. **map()**:\n",
    "   - *Purpose:* Applies a given function to each item in an iterable (or multiple iterables) and returns an iterator of the results.\n",
    "   - *Usage:* When you need to transform or modify every item in an iterable.\n",
    "   - *Syntax:* map(function, iterable, ...)\n",
    "\n",
    "2. **filter()**:\n",
    "   - *Purpose:* Applies a function to each item in an iterable to test whether it satisfies a condition. It returns an iterator of items that satisfy the condition (i.e., for which the function returns True).\n",
    "   - *Usage:* When you need to filter elements based on a condition.\n",
    "   - *Syntax:* filter(function, iterable)\n",
    "\n",
    "3. **reduce()**:\n",
    "   - *Purpose:* Performs a cumulative operation on items in an iterable, applying a function that takes two arguments and returns a single result. It reduces the iterable to a single value.\n",
    "   - *Usage:* When you need to aggregate or combine items in an iterable using a binary function.\n",
    "   - *Syntax:* reduce(function, iterable[, initializer])\n",
    "\n",
    "   Note: reduce() is not a built-in function in Python 3 and must be imported from the functools module."
   ]
  },
  {
   "cell_type": "code",
   "execution_count": 18,
   "id": "fed8de6d-c8d6-47d4-9783-813639f7e01b",
   "metadata": {},
   "outputs": [
    {
     "name": "stdout",
     "output_type": "stream",
     "text": [
      "[1, 4, 9, 16]\n",
      "[2, 4]\n",
      "10\n"
     ]
    }
   ],
   "source": [
    "#Examples\n",
    "\n",
    "from functools import reduce\n",
    "\n",
    "# Example 1: Using map()\n",
    "numbers = [1, 2, 3, 4]\n",
    "squared_numbers = map(lambda x: x * x, numbers)\n",
    "print(list(squared_numbers))  # Output: [1, 4, 9, 16]\n",
    "\n",
    "# Example 2: Using filter()\n",
    "numbers = [1, 2, 3, 4, 5]\n",
    "even_numbers = filter(lambda x: x % 2 == 0, numbers)\n",
    "print(list(even_numbers))  # Output: [2, 4]\n",
    "\n",
    "# Example 3: Using reduce()\n",
    "numbers = [1, 2, 3, 4]\n",
    "sum_result = reduce(lambda x, y: x + y, numbers)\n",
    "print(sum_result)  # Output: 10"
   ]
  },
  {
   "cell_type": "markdown",
   "id": "98f56de9-1ee2-47d3-93b2-b4eb94596813",
   "metadata": {},
   "source": [
    "#### 11. Using pen and paper write the internal mechanism for sum operation using reduce function on this given list[47,11,42,13]."
   ]
  },
  {
   "cell_type": "markdown",
   "id": "22c10e6a-33d8-4302-8c57-933800318ad6",
   "metadata": {},
   "source": [
    "*Check google colab for attachment*"
   ]
  },
  {
   "cell_type": "markdown",
   "id": "cbcf840e-bbb6-4679-a3a5-bc010d9680c7",
   "metadata": {},
   "source": [
    "# Practical Part"
   ]
  },
  {
   "cell_type": "markdown",
   "id": "6fff6a51-796b-4dba-9067-824d0197c7b0",
   "metadata": {},
   "source": [
    "#### Write a python function that takes a list of numbers as input and returns the sum of all even numbers in the list."
   ]
  },
  {
   "cell_type": "code",
   "execution_count": 27,
   "id": "b3653e64-7f48-4bc7-9568-969a38dbed7d",
   "metadata": {},
   "outputs": [
    {
     "name": "stdout",
     "output_type": "stream",
     "text": [
      "2550\n",
      "2550\n",
      "2550\n"
     ]
    }
   ],
   "source": [
    "from functools import reduce\n",
    "\n",
    "def sum1(list):\n",
    "    sum=0\n",
    "    for num in list:\n",
    "        if num%2==0:\n",
    "            sum=sum+num\n",
    "    return sum\n",
    "\n",
    "def sum2(list):\n",
    "    sum=0\n",
    "    [sum:=sum+ num for num in list if num%2==0]\n",
    "    return sum\n",
    "\n",
    "def sum3(list):\n",
    "    return reduce(lambda x,y:x+y if y%2==0 else x, list, 0)\n",
    "    \n",
    "nums=[i for i in range(1,101)]\n",
    "print(sum1(nums))\n",
    "print(sum2(nums))\n",
    "print(sum3(nums))"
   ]
  },
  {
   "cell_type": "markdown",
   "id": "9afcaf16-08fe-4941-a835-66990b0ea91c",
   "metadata": {},
   "source": [
    "#### 2. Create a Python function that accepts a string and returns the reverse of that string."
   ]
  },
  {
   "cell_type": "code",
   "execution_count": 28,
   "id": "bb9481eb-4399-4f12-84d1-2e1ef2b6cb44",
   "metadata": {},
   "outputs": [
    {
     "name": "stdout",
     "output_type": "stream",
     "text": [
      "namhsuyA\n"
     ]
    }
   ],
   "source": [
    "def reverse(str):\n",
    "    return str[::-1]\n",
    "str=\"Ayushman\"\n",
    "print(reverse(str))"
   ]
  },
  {
   "cell_type": "markdown",
   "id": "531a3ce2-bd94-4486-961f-2c088571877c",
   "metadata": {},
   "source": [
    "#### 3. Implement a Python function that takes a list of integers and returns a new list containing the squares of each number."
   ]
  },
  {
   "cell_type": "code",
   "execution_count": 30,
   "id": "4bf7767b-fca2-478f-b9a4-1b4b675b746b",
   "metadata": {},
   "outputs": [
    {
     "name": "stdout",
     "output_type": "stream",
     "text": [
      "[1, 4, 9, 16, 25]\n"
     ]
    }
   ],
   "source": [
    "def squred_list(list):\n",
    "    return [x**2 for x in list]\n",
    "print(squred_list([1,2,3,4,5]))"
   ]
  },
  {
   "cell_type": "markdown",
   "id": "ceb1d6cc-e0b4-4eff-b47e-c4ad9c80a760",
   "metadata": {},
   "source": [
    "#### 4. Write a Python function that checks if a given number is prime or not from 1 to 200."
   ]
  },
  {
   "cell_type": "code",
   "execution_count": 61,
   "id": "20a286be-0667-43d2-b200-9118ac7edf95",
   "metadata": {},
   "outputs": [
    {
     "name": "stdout",
     "output_type": "stream",
     "text": [
      "25 is not a prime number \n",
      "5 is a prime number\n",
      "997 is a prime number\n",
      "996 is not a prime number \n"
     ]
    }
   ],
   "source": [
    "def check_prime(num):\n",
    "    if num<=1:\n",
    "        return 1\n",
    "    sq=int(num**0.5)\n",
    "    for i in range(2,sq+1):\n",
    "        if num%i==0:\n",
    "            return f\"{num} is not a prime number \"\n",
    "    return f\"{num} is a prime number\"\n",
    "print(check_prime(25))\n",
    "print(check_prime(5))\n",
    "print(check_prime(997))\n",
    "print(check_prime(996))\n",
    "\n",
    "# its not limited from 1-200. You can check any number"
   ]
  },
  {
   "cell_type": "markdown",
   "id": "bf04aa0c-e793-4c91-b962-860a36b39c90",
   "metadata": {},
   "source": [
    "#### 5.  Create an iterator class in Python that generates the Fibonacci sequence up to a specified number of terms."
   ]
  },
  {
   "cell_type": "code",
   "execution_count": 51,
   "id": "ed4ce530-f411-481a-bb11-fac9cf46f090",
   "metadata": {},
   "outputs": [
    {
     "name": "stdout",
     "output_type": "stream",
     "text": [
      "term 1:  0\n",
      "term 2:  1\n",
      "term 3:  1\n",
      "term 4:  2\n",
      "term 5:  3\n",
      "term 6:  5\n",
      "term 7:  8\n",
      "term 8:  13\n",
      "term 9:  21\n",
      "term 10:  34\n"
     ]
    }
   ],
   "source": [
    "def fib(num):\n",
    "    a=0\n",
    "    b=1\n",
    "    for i in range(1,num+1):\n",
    "        yield a\n",
    "        temp=b\n",
    "        b=a+b\n",
    "        a=temp\n",
    "fibonacci=fib(10)\n",
    "for i in range(1,11):\n",
    "    print(f\"term {i}: \",next(fibonacci))"
   ]
  },
  {
   "cell_type": "markdown",
   "id": "61733e85-ea2e-4761-a983-219670983c38",
   "metadata": {},
   "source": [
    "#### 6. Write a generator function in Python that yields the powers of 2 up to a given exponent."
   ]
  },
  {
   "cell_type": "code",
   "execution_count": 56,
   "id": "a77217af-a2d7-40c0-8204-b0fd24ec4a69",
   "metadata": {},
   "outputs": [
    {
     "name": "stdout",
     "output_type": "stream",
     "text": [
      "1\n",
      "2\n",
      "4\n",
      "8\n",
      "16\n",
      "32\n",
      "64\n",
      "128\n",
      "256\n",
      "512\n",
      "1024\n"
     ]
    }
   ],
   "source": [
    "def expo(num):\n",
    "    for i in range(0,num+1):\n",
    "        yield 2**i\n",
    "a=expo(10)\n",
    "for i in range(0,11):\n",
    "    print(next(a))"
   ]
  },
  {
   "cell_type": "markdown",
   "id": "76778bed-ada5-4afa-97ae-9eb420ecff48",
   "metadata": {},
   "source": [
    "#### 7. Implement a generator function that reads a file line by line and yields each line as a string."
   ]
  },
  {
   "cell_type": "code",
   "execution_count": 60,
   "id": "226c352b-b962-401a-95e2-f250aa325450",
   "metadata": {},
   "outputs": [],
   "source": [
    "def reading(file_name):\n",
    "    with open(file_name) as f:\n",
    "        lines=f.readlines()\n",
    "    for line in lines:\n",
    "        yield line\n"
   ]
  },
  {
   "cell_type": "markdown",
   "id": "8fe78595-c025-44c0-ab2d-7bca079a55c4",
   "metadata": {},
   "source": [
    "#### 8. Use a lambda function in Python to sort a list of tuples based on the second element of each tuple."
   ]
  },
  {
   "cell_type": "code",
   "execution_count": 76,
   "id": "8abca25e-8a2d-486c-8e31-b8b43840c603",
   "metadata": {},
   "outputs": [
    {
     "name": "stdout",
     "output_type": "stream",
     "text": [
      "[(1, 2), (12, 3), (1, 4), (1, 12, 3213), (12, 31, 231)]\n"
     ]
    }
   ],
   "source": [
    "list1=[(1,2),(12,3),(12,31,231),(1,12,3213),(1,4)]\n",
    "sorted_list=sorted(list1,key=lambda x: x[1])\n",
    "print(sorted_list)"
   ]
  },
  {
   "cell_type": "markdown",
   "id": "d8f44bce-d995-4c75-b539-6018c94a2aa5",
   "metadata": {},
   "source": [
    "#### 9. Write a Python program that uses `map()` to convert a list of temperatures from Celsius to Fahrenheit."
   ]
  },
  {
   "cell_type": "code",
   "execution_count": 80,
   "id": "e82d522c-b635-46c2-b441-26b689587c57",
   "metadata": {},
   "outputs": [
    {
     "name": "stdout",
     "output_type": "stream",
     "text": [
      "[53.6, 64.4, 156.2, 188.6, 91.4, 35.6, 113.0]\n"
     ]
    }
   ],
   "source": [
    "def convert(cels):\n",
    "    return (cels*9/5)+32\n",
    "\n",
    "list=__builtins__.list # I had to use this because I have overwritten list function before. So error is coming\n",
    "cels_list=[12,18,69,87,33,2,45]\n",
    "temp=list(map(convert,cels_list))\n",
    "print(temp)"
   ]
  },
  {
   "cell_type": "markdown",
   "id": "82469fca-c4d9-4816-b245-08640dd51cf0",
   "metadata": {},
   "source": [
    "#### 10. Create a Python program that uses `filter()` to remove all the vowels from a given string."
   ]
  },
  {
   "cell_type": "code",
   "execution_count": 82,
   "id": "951b0610-244e-42e1-912b-22527ad88a6c",
   "metadata": {},
   "outputs": [
    {
     "name": "stdout",
     "output_type": "stream",
     "text": [
      "Without vowels:  m Btmn!\n"
     ]
    }
   ],
   "source": [
    "def removing(str):\n",
    "    vowels = 'aeiouAEIOU'\n",
    "    result = ''.join(filter(lambda char: char not in vowels, str))\n",
    "    return result\n",
    "\n",
    "text = \"I am Batman!\"\n",
    "filtered_text = removing(text)\n",
    "print(f\"Without vowels: {filtered_text}\")"
   ]
  },
  {
   "cell_type": "code",
   "execution_count": 84,
   "id": "26abbd1f-a2c0-467d-bb5c-f042468cd2fc",
   "metadata": {},
   "outputs": [
    {
     "name": "stdout",
     "output_type": "stream",
     "text": [
      "[(34587, 173.8), (98762, 294.0), (77226, 108.85000000000001), (88112, 84.97)]\n"
     ]
    }
   ],
   "source": [
    "orders = [\n",
    "    [34587, 40.95, 4],\n",
    "    [98762, 56.80, 5],\n",
    "    [77226, 32.95, 3], \n",
    "    [88112, 24.99, 3] \n",
    "]\n",
    "processed_orders = list(map(lambda order: (order[0], order[1] * order[2] if order[1] * order[2] >= 100000 else order[1] * order[2] + 10), orders))\n",
    "\n",
    "print(processed_orders)\n"
   ]
  },
  {
   "cell_type": "code",
   "execution_count": null,
   "id": "85b6ed77-344e-471a-a267-c4a256d5ed9a",
   "metadata": {},
   "outputs": [],
   "source": []
  }
 ],
 "metadata": {
  "kernelspec": {
   "display_name": "Python 3 (ipykernel)",
   "language": "python",
   "name": "python3"
  },
  "language_info": {
   "codemirror_mode": {
    "name": "ipython",
    "version": 3
   },
   "file_extension": ".py",
   "mimetype": "text/x-python",
   "name": "python",
   "nbconvert_exporter": "python",
   "pygments_lexer": "ipython3",
   "version": "3.11.7"
  }
 },
 "nbformat": 4,
 "nbformat_minor": 5
}
