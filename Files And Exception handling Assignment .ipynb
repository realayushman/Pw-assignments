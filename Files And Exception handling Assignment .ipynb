{
 "cells": [
  {
   "cell_type": "markdown",
   "id": "352b1a46-d541-405d-90cd-1de54262992c",
   "metadata": {},
   "source": [
    "# Files And Exception handling Assignment "
   ]
  },
  {
   "cell_type": "markdown",
   "id": "60fc8009-7b17-4079-a470-858549820f4b",
   "metadata": {},
   "source": [
    "#### 1. Discuss the scenarios where multithreading is preferable to multiprocessing and scenarios where multiprocessing is a better choice."
   ]
  },
  {
   "cell_type": "markdown",
   "id": "353af461-6b25-4bee-af96-16af97f5f48c",
   "metadata": {},
   "source": [
    "When Multithreading is Preferable:\n",
    "\n",
    "I/O-Bound Tasks:\n",
    "\n",
    "Scenarios: Multithreading shines in programs that spend much time waiting for external operations to complete, such as reading from files, network calls, or user inputs.\n",
    "Example: A web server handling multiple requests simultaneously. Each thread can handle a request while waiting for responses from databases or file systems without blocking the entire application.\n",
    "\n",
    "Low CPU Utilization:\n",
    "\n",
    "Scenarios: If the tasks are not CPU-intensive (e.g., tasks that require quick responses rather than heavy computation), multithreading helps with managing multiple tasks efficiently without overwhelming the CPU.\n",
    "Example: GUI applications that perform background tasks while keeping the interface responsive to user interactions.\n",
    "\n",
    "Shared Memory:\n",
    "\n",
    "Scenarios: Threads share the same memory space, making data sharing between threads simpler and faster. Multithreading avoids the need for explicit inter-process communication (IPC).\n",
    "Example: Real-time processing systems where different threads need to access and update the same data structure frequently.\n",
    "\n",
    "Lower Overhead:\n",
    "\n",
    "Scenarios: Thread creation and context switching have lower overhead compared to processes because threads share the same memory space.\n",
    "Example: Background tasks like logging or periodic status checks in a running application.\n",
    "\n",
    "When Multiprocessing is Preferable:\n",
    "\n",
    "CPU-Bound Tasks:\n",
    "\n",
    "Scenarios: When the task involves heavy computation and takes full advantage of multiple CPU cores, multiprocessing is more effective. Threads run under the same Global Interpreter Lock (GIL) in Python, which limits true parallelism for CPU-bound tasks.\n",
    "Example: Scientific computations, image processing, machine learning model training, or large matrix calculations.\n",
    "\n",
    "Avoiding GIL (Global Interpreter Lock):\n",
    "\n",
    "Scenarios: In Python, the GIL prevents multiple threads from executing Python bytecode in parallel. If the task requires true parallel execution across multiple CPU cores, multiprocessing is better.\n",
    "Example: Complex numerical simulations or heavy data crunching that must utilize all cores efficiently.\n",
    "\n",
    "Memory Independence:\n",
    "\n",
    "Scenarios: Processes don’t share memory space by default, which means they don’t have the same risks of race conditions or data corruption issues that threads might encounter.\n",
    "Example: Tasks that don’t need to share memory, like independent batch processing jobs where each job runs in isolation.\n",
    "\n",
    "Isolation and Fault Tolerance:\n",
    "\n",
    "Scenarios: Each process runs in its own memory space. If a process crashes, it won’t affect other processes. In contrast, if a thread crashes, it might take down the whole program.\n",
    "Example: Running multiple worker processes in a distributed system where each worker processes a separate chunk of data.\n"
   ]
  },
  {
   "cell_type": "markdown",
   "id": "17a21873-feb1-40d8-9e10-2771a7cf86ea",
   "metadata": {},
   "source": [
    "#### 2. Describe what a process pool is and how it helps in managing multiple processes efficiently."
   ]
  },
  {
   "cell_type": "markdown",
   "id": "6de0aa78-ead2-4a3b-a693-2eff09be8304",
   "metadata": {},
   "source": [
    "A process pool is a collection of worker processes that can be reused to perform tasks in parallel. Instead of creating and destroying processes repeatedly, a pool allows reusing a fixed number of processes, which is more efficient.\n",
    "\n",
    "Benefits:\n",
    "\n",
    "Efficient Process Management: Creating processes is expensive due to the memory and resources required. A pool limits this cost by reusing processes.\n",
    "Load Distribution: The pool distributes tasks among the available processes, ensuring efficient CPU utilization.\n",
    "Task Queueing: When the number of tasks exceeds the pool size, the tasks are queued and processed when a worker becomes available.\n",
    "In Python, the multiprocessing.Pool module allows for easy management of process pools, distributing tasks across processes automatically."
   ]
  },
  {
   "cell_type": "markdown",
   "id": "fd4b97f4-e7e3-4e08-bb7e-4def0b764895",
   "metadata": {},
   "source": [
    "#### 3. Explain what multiprocessing is and why it is used in Python programs."
   ]
  },
  {
   "cell_type": "markdown",
   "id": "49b0af93-4580-4cfb-a3a4-30245cc951f9",
   "metadata": {},
   "source": [
    "Multiprocessing is the technique of running multiple processes in parallel to achieve true concurrency, especially for CPU-bound tasks. Each process runs in its own memory space, allowing Python programs to bypass the Global Interpreter Lock (GIL) and utilize multiple CPU cores.\n",
    "\n",
    "Why it is used:\n",
    "\n",
    "True Parallelism: Python threads are constrained by the GIL, so multiprocessing is used for CPU-intensive tasks that require parallel execution.\n",
    "Independent Execution: Processes run independently, so one process’s failure doesn’t affect others.\n",
    "Better Performance: By distributing CPU-bound tasks across multiple cores, the program's performance can be significantly improved."
   ]
  },
  {
   "cell_type": "markdown",
   "id": "370d379f-0274-426c-8e36-875201437da9",
   "metadata": {},
   "source": [
    "#### 4. Write a Python program using multithreading where one thread adds numbers to a list, and another thread removes numbers from the list. Implement a mechanism to avoid race conditions using threading.Lock."
   ]
  },
  {
   "cell_type": "code",
   "execution_count": null,
   "id": "671d3121-a715-49ff-a211-ac903bd31fc0",
   "metadata": {},
   "outputs": [
    {
     "name": "stdout",
     "output_type": "stream",
     "text": [
      "Added 0, List: [0]\n",
      "Removed 0, List: []\n",
      "Added 1, List: [1]\n",
      "Added 2, List: [1, 2]\n",
      "Removed 1, List: [2]\n",
      "Added 3, List: [2, 3]\n",
      "Removed 2, List: [3]\n",
      "Added 4, List: [3, 4]\n",
      "Added 5, List: [3, 4, 5]\n",
      "Removed 3, List: [4, 5]\n",
      "Added 6, List: [4, 5, 6]\n",
      "Added 7, List: [4, 5, 6, 7]\n",
      "Removed 4, List: [5, 6, 7]\n",
      "Added 8, List: [5, 6, 7, 8]\n",
      "Added 9, List: [5, 6, 7, 8, 9]\n",
      "Removed 5, List: [6, 7, 8, 9]\n",
      "Removed 6, List: [7, 8, 9]\n",
      "Removed 7, List: [8, 9]\n",
      "Removed 8, List: [9]\n",
      "Removed 9, List: []\n"
     ]
    }
   ],
   "source": [
    "import threading\n",
    "import time\n",
    "\n",
    "# Shared resource\n",
    "numbers = []\n",
    "lock = threading.Lock()\n",
    "\n",
    "def add_numbers():\n",
    "    for i in range(10):\n",
    "        with lock:\n",
    "            numbers.append(i)\n",
    "            print(f\"Added {i}, List: {numbers}\")\n",
    "        time.sleep(0.1)\n",
    "\n",
    "def remove_numbers():\n",
    "    while True:\n",
    "        with lock:\n",
    "            if numbers:\n",
    "                removed = numbers.pop(0)\n",
    "                print(f\"Removed {removed}, List: {numbers}\")\n",
    "        time.sleep(0.2)\n",
    "\n",
    "# Create threads\n",
    "t1 = threading.Thread(target=add_numbers)\n",
    "t2 = threading.Thread(target=remove_numbers)\n",
    "\n",
    "# Start threads\n",
    "t1.start()\n",
    "t2.start()\n",
    "\n",
    "# Wait for threads to finish\n",
    "t1.join()\n",
    "t2.join()\n"
   ]
  },
  {
   "cell_type": "markdown",
   "id": "e3c8306a-5b2d-4329-9e04-08f69d61fbc3",
   "metadata": {},
   "source": [
    "#### 5. Describe the methods and tools available in Python for safely sharing data between threads and processes."
   ]
  },
  {
   "cell_type": "markdown",
   "id": "435e1fa7-6741-4688-a23a-d8d737907b75",
   "metadata": {},
   "source": [
    "For Threads:\n",
    "\n",
    "Threading.Lock: Ensures only one thread accesses shared data at a time.\n",
    "Threading.RLock: A re-entrant lock, which allows a thread to acquire the lock multiple times.\n",
    "Threading.Condition: Provides a way for threads to wait until a certain condition is met.\n",
    "Queue.Queue: A thread-safe queue for passing data between threads without locking.\n",
    "For Processes:\n",
    "\n",
    "multiprocessing.Queue: A thread-safe and process-safe queue for sharing data between processes.\n",
    "multiprocessing.Value: A shared object for storing a single data value.\n",
    "multiprocessing.Array: A shared array for sharing a collection of data between processes.\n",
    "Manager(): Allows managing shared objects like lists and dictionaries between processes."
   ]
  },
  {
   "cell_type": "markdown",
   "id": "3ea5dfed-7479-4458-bbfe-5c87b996c8c2",
   "metadata": {},
   "source": [
    "#### 6. Discuss why it’s crucial to handle exceptions in concurrent programs and the techniques available for doing so."
   ]
  },
  {
   "cell_type": "markdown",
   "id": "1353acbe-ad70-4e98-99bb-55ac01e0bd72",
   "metadata": {},
   "source": [
    "Why Exception Handling is Crucial:\n",
    "\n",
    "Program Stability: In concurrent programs, unhandled exceptions in one thread or process can lead to crashes or unpredictable behavior.\n",
    "Data Integrity: Without proper handling, exceptions could leave shared resources in an inconsistent state (e.g., partial writes or corrupt data).\n",
    "Debugging: In a concurrent environment, exceptions may go unnoticed if not explicitly caught and logged, making debugging difficult.\n",
    "Techniques:\n",
    "\n",
    "Try-Except Blocks: Use try-except to catch exceptions in threads or processes and handle them gracefully.\n",
    "concurrent.futures Exception Handling: When using ThreadPoolExecutor or ProcessPoolExecutor, the future.result() method can raise exceptions thrown in the worker thread/process.\n",
    "Logging: Catch exceptions and log them using the logging module for better traceability.\n",
    "Thread-safe Data Structures: Use queues to pass exceptions from threads or processes back to the main thread for handling."
   ]
  },
  {
   "cell_type": "markdown",
   "id": "91a79a59-234c-4bf6-830a-8d0901f26eb5",
   "metadata": {},
   "source": [
    "#### 7. Create a program that uses a thread pool to calculate the factorial of numbers from 1 to 10 concurrently. Use concurrent.futures.ThreadPoolExecutor to manage the threads."
   ]
  },
  {
   "cell_type": "code",
   "execution_count": null,
   "id": "1629f948-d5a0-4610-83e0-6904987f283f",
   "metadata": {},
   "outputs": [],
   "source": [
    "import concurrent.futures\n",
    "\n",
    "# Function to calculate factorial\n",
    "def factorial(n):\n",
    "    if n==0 or n==1:\n",
    "        return 1\n",
    "    else:\n",
    "        return n*factorial(n-1)\n",
    "def get_fac(n):\n",
    "    fac=factorial(n)\n",
    "    print(fac)\n",
    "# List of numbers from 1 to 10\n",
    "numbers = [i for i in range(1, 11)]\n",
    "\n",
    "# Using ThreadPoolExecutor\n",
    "with concurrent.futures.ThreadPoolExecutor() as executor:\n",
    "    executor.map(get_fac, numbers)\n",
    "\n",
    "print(\"Factorials from 1 to 10:\")"
   ]
  },
  {
   "cell_type": "markdown",
   "id": "a1f35cd9-39a3-4948-b32c-1c3ab8b71ed0",
   "metadata": {},
   "source": [
    "#### 8. Create a Python program that uses multiprocessing.Pool to compute the square of numbers from 1 to 10 in parallel. Measure the time taken to perform this computation using a pool of different sizes (e.g., 2, 4, 8 processes)."
   ]
  },
  {
   "cell_type": "code",
   "execution_count": null,
   "id": "bbb9bec0-b615-45fb-96bb-b111a2e47eab",
   "metadata": {},
   "outputs": [],
   "source": [
    "import multiprocessing\n",
    "import time\n",
    "\n",
    "# Function to calculate the square of a number\n",
    "def square(n):\n",
    "    return n * n\n",
    "\n",
    "# List of numbers from 1 to 10\n",
    "numbers = list(range(1, 11))\n",
    "\n",
    "def compute_squares(pool_size):\n",
    "    start_time = time.time()\n",
    "    with multiprocessing.Pool(pool_size) as pool:\n",
    "        results = pool.map(square, numbers)\n",
    "    end_time = time.time()\n",
    "    print(f\"Pool size: {pool_size}, Time taken: {end_time - start_time:.4f} seconds, Results: {results}\")\n",
    "\n",
    "# Test with different pool sizes\n",
    "for pool_size in [2, 4, 8]:\n",
    "    compute_squares(pool_size)\n"
   ]
  }
 ],
 "metadata": {
  "kernelspec": {
   "display_name": "Python 3 (ipykernel)",
   "language": "python",
   "name": "python3"
  },
  "language_info": {
   "codemirror_mode": {
    "name": "ipython",
    "version": 3
   },
   "file_extension": ".py",
   "mimetype": "text/x-python",
   "name": "python",
   "nbconvert_exporter": "python",
   "pygments_lexer": "ipython3",
   "version": "3.11.7"
  }
 },
 "nbformat": 4,
 "nbformat_minor": 5
}
