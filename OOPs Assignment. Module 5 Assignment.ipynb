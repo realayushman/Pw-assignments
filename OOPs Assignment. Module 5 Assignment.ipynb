{
 "cells": [
  {
   "cell_type": "markdown",
   "id": "5b02b30f-1819-4082-a9ba-c5ec3f3aff31",
   "metadata": {},
   "source": [
    "# OOPs Assignment. Module 5 Assignment"
   ]
  },
  {
   "cell_type": "markdown",
   "id": "aaeea427-7395-4ee5-8b9a-83dfeee2c639",
   "metadata": {},
   "source": [
    "#### 1. What are the five key concepts of Object-Oriented Programming (OOP)?"
   ]
  },
  {
   "cell_type": "markdown",
   "id": "1d291a2b-279b-4647-9aa6-a988273c0ba3",
   "metadata": {},
   "source": [
    "The five key concepts of Object-Oriented Programming (OOP) are:\n",
    "\n",
    "1. Class:\n",
    "A class is a blueprint for creating objects. It defines the properties (attributes) and behaviors (methods) that the objects created from the class will have.\n",
    "\n",
    "2. Object:\n",
    "An object is an instance of a class. It represents an entity in the real world with properties (state) and behaviors (methods).\n",
    "\n",
    "3. Encapsulation:\n",
    "Encapsulation is the concept of bundling data (attributes) and methods that operate on the data within a single unit, or class. It also involves restricting direct access to some of an object's components, which is often achieved through access modifiers like private, public, or protected.\n",
    "\n",
    "4. Inheritance:\n",
    "Inheritance is the mechanism by which one class can inherit attributes and methods from another class. This promotes code reuse and establishes a relationship between classes.\n",
    "\n",
    "5. Polymorphism:\n",
    "Polymorphism allows methods to do different things based on the object that is calling the method, even though they share the same name. It can be implemented through method overloading (same method name, different parameters) or method overriding (redefining a method in a subclass)."
   ]
  },
  {
   "cell_type": "code",
   "execution_count": 1,
   "id": "a873576b-31d2-4606-b462-191d70c662b6",
   "metadata": {},
   "outputs": [
    {
     "name": "stdout",
     "output_type": "stream",
     "text": [
      "Buddy says Woof!\n",
      "Whiskers says Meow!\n"
     ]
    }
   ],
   "source": [
    "# Class Definition\n",
    "class Animal:\n",
    "    def __init__(self, name):\n",
    "        self.name = name  # Encapsulation of data (attribute)\n",
    "\n",
    "    def speak(self):  # Polymorphism via method overriding\n",
    "        raise NotImplementedError(\"Subclass must implement abstract method\")\n",
    "\n",
    "# Inheritance: Dog inherits from Animal\n",
    "class Dog(Animal):\n",
    "    def speak(self):  # Method overriding (Polymorphism)\n",
    "        return f\"{self.name} says Woof!\"\n",
    "\n",
    "# Inheritance: Cat inherits from Animal\n",
    "class Cat(Animal):\n",
    "    def speak(self):  # Method overriding (Polymorphism)\n",
    "        return f\"{self.name} says Meow!\"\n",
    "\n",
    "# Creating Objects (Instantiation)\n",
    "dog = Dog(\"Buddy\")\n",
    "cat = Cat(\"Whiskers\")\n",
    "\n",
    "# Accessing methods\n",
    "print(dog.speak())  # Output: Buddy says Woof!\n",
    "print(cat.speak())  # Output: Whiskers says Meow!"
   ]
  },
  {
   "cell_type": "markdown",
   "id": "441db803-5b99-46fe-adb3-76c9672c8f1a",
   "metadata": {},
   "source": [
    "#### 2. Write a Python class for a Car with attributes for make, model, and year. Include a method to display the car's information"
   ]
  },
  {
   "cell_type": "code",
   "execution_count": 3,
   "id": "55bbb003-35c6-465d-9c49-229222cfdda9",
   "metadata": {},
   "outputs": [
    {
     "name": "stdout",
     "output_type": "stream",
     "text": [
      "make: Batman Limited\n",
      "model: Batmobile\n",
      "year: 2024\n"
     ]
    }
   ],
   "source": [
    "class Car:\n",
    "    def __init__(self,make,model,year):\n",
    "        self.make=make\n",
    "        self.model=model\n",
    "        self.year=year\n",
    "    def display(self):\n",
    "        print(f\"make: {self.make}\\nmodel: {self.model}\\nyear: {self.year}\")\n",
    "batman=Car(\"Batman Limited\",\"Batmobile\",2024)\n",
    "batman.display()"
   ]
  },
  {
   "cell_type": "markdown",
   "id": "c6def046-0547-4d87-8a80-202b1b1f2fe0",
   "metadata": {},
   "source": [
    "#### 3. Explain the difference between instance methods and class methods. Provide an example of each."
   ]
  },
  {
   "cell_type": "markdown",
   "id": "e68806a5-8efa-43c4-951f-e889f3b627eb",
   "metadata": {},
   "source": [
    "Difference between *Instance Method* and *Class Method*:\n",
    "\n",
    "1. *Instance Method*:\n",
    "   - Belongs to an instance of the class.\n",
    "   - It can modify object (instance) state.\n",
    "   - Can access both instance variables (specific to the object) and class variables.\n",
    "   - Requires an instance to be called.\n",
    "\n",
    "2. *Class Method*:\n",
    "   - Belongs to the class itself.\n",
    "   - It can modify class state that applies across all instances.\n",
    "   - Cannot modify object (instance) state.\n",
    "   - Requires a class as the implicit first argument (usually named cls).\n",
    "   - Does not need an instance of the class to be called."
   ]
  },
  {
   "cell_type": "code",
   "execution_count": 36,
   "id": "334c6d21-37c6-4de8-9492-3e7dfbbce9e0",
   "metadata": {},
   "outputs": [
    {
     "name": "stdout",
     "output_type": "stream",
     "text": [
      "Hello, Batman!\n",
      "This is the class method. Class variable: I belong to the class\n"
     ]
    }
   ],
   "source": [
    "### Example:\n",
    "#### 1. Instance Method:\n",
    "class MyClass:\n",
    "    def __init__(self, name):\n",
    "        self.name = name  # instance variable\n",
    "\n",
    "    def greet(self):  # instance method\n",
    "        return f\"Hello, {self.name}!\"  # Accesses instance variable\n",
    "\n",
    "# Create an instance\n",
    "obj = MyClass(\"Batman\")\n",
    "print(obj.greet())  # Output: Hello, Batman!\n",
    "\n",
    "#### 2. Class Method:\n",
    "class MyClass:\n",
    "    class_variable = \"I belong to the class\"\n",
    "\n",
    "    def __init__(self, name):\n",
    "        self.name = name\n",
    "\n",
    "    @classmethod\n",
    "    def class_info(cls):  # class method\n",
    "        return f\"This is the class method. Class variable: {cls.class_variable}\"\n",
    "\n",
    "# Calling the class method\n",
    "print(MyClass.class_info())  # Output: This is the class method. Class variable: I belong to the class"
   ]
  },
  {
   "cell_type": "markdown",
   "id": "9a028cb8-e3d2-43dc-a8cb-919772c73198",
   "metadata": {},
   "source": [
    "In this example, class_info is a class method because it operates on the class itself, accessing the class variable class_variable.\n",
    "\n",
    "- *Instance methods* need an instance to be called and can access/modify both instance and class variables.\n",
    "- *Class methods* work on the class itself and cannot modify instance-specific data. They are used for class-level operations."
   ]
  },
  {
   "cell_type": "markdown",
   "id": "0d6f7d2e-da89-46f6-8750-c77900eb0de9",
   "metadata": {},
   "source": [
    "#### 4. How does Python implement method overloading? Give an example."
   ]
  },
  {
   "cell_type": "markdown",
   "id": "28b2af18-ec2e-4354-a65a-71dcfe263284",
   "metadata": {},
   "source": [
    "Python does not support traditional method overloading. Instead, it uses default arguments or variable-length arguments (*args, **kwargs) to achieve similar behavior.\n"
   ]
  },
  {
   "cell_type": "code",
   "execution_count": 38,
   "id": "a1a0d336-f5bc-40e1-a3d9-32a9813e91ff",
   "metadata": {},
   "outputs": [
    {
     "name": "stdout",
     "output_type": "stream",
     "text": [
      "10\n",
      "15\n",
      "17\n",
      "10\n",
      "15\n",
      "17\n"
     ]
    }
   ],
   "source": [
    "#Example:\n",
    "\n",
    "class Calculator:\n",
    "    def add(self, a, b=0, c=0):\n",
    "        return a + b + c\n",
    "\n",
    "calc = Calculator()\n",
    "print(calc.add(10))         # Output: 10\n",
    "print(calc.add(10, 5))      # Output: 15\n",
    "print(calc.add(10, 5, 2))   # Output: 17\n",
    "\n",
    "class Calculator:\n",
    "    def add(self, *args):\n",
    "        return sum(args)\n",
    "\n",
    "calc = Calculator()\n",
    "print(calc.add(10))         # Output: 10\n",
    "print(calc.add(10, 5))      # Output: 15\n",
    "print(calc.add(10, 5, 2))   # Output: 17\n"
   ]
  },
  {
   "cell_type": "markdown",
   "id": "d6d5e545-ba23-48bb-ae85-71e2bc5ebdff",
   "metadata": {},
   "source": [
    "#### 5. What are the three types of access modifiers in Python? How are they denoted?"
   ]
  },
  {
   "cell_type": "markdown",
   "id": "b8804d47-b949-4358-ac5a-3cfb7237ae04",
   "metadata": {},
   "source": [
    "In Python, access modifiers are not explicitly defined as in languages like Java or C++. However, Python uses naming conventions to denote different levels of access for class members:\n",
    "\n",
    "1. *Public*: Accessible from anywhere.  \n",
    "   - *Denoted by*: No leading underscores.\n",
    "   - Example: def my_method(self):\n",
    "\n",
    "2. *Protected*: Intended to be used within the class and its subclasses.  \n",
    "   - *Denoted by*: A single leading underscore (_).\n",
    "   - Example: _my_method(self):\n",
    "\n",
    "3. *Private*: Not accessible outside the class. Python uses name mangling to make these members harder to access.  \n",
    "   - *Denoted by*: Two leading underscores (__).\n",
    "   - Example: __my_method(self):\n",
    "\n",
    "Despite these conventions, Python's private members can still be accessed using special syntax due to its philosophy of \"consenting adults.\""
   ]
  },
  {
   "cell_type": "markdown",
   "id": "9e721af4-28f6-49c0-b7b7-57c48f0d4514",
   "metadata": {},
   "source": [
    "#### 6. Describe the five types of inheritance in Python. Provide a simple example of multiple inheritance."
   ]
  },
  {
   "cell_type": "markdown",
   "id": "7c522247-b4c8-4c29-96ff-19e99cd32c63",
   "metadata": {},
   "source": [
    "1. *Single Inheritance*: A child class inherits from a single parent class.\n",
    "   - Example: class B(A)\n",
    "\n",
    "2. *Multiple Inheritance*: A child class inherits from more than one parent class.\n",
    "   - Example: class C(A, B)\n",
    "\n",
    "3. *Multilevel Inheritance*: A class inherits from a class that is already a derived class.\n",
    "   - Example: class C(B), where class B(A)\n",
    "\n",
    "4. *Hierarchical Inheritance*: Multiple child classes inherit from the same parent class.\n",
    "   - Example: class B(A) and class C(A)\n",
    "\n",
    "5. *Hybrid Inheritance*: A combination of two or more types of inheritance.\n",
    "   - Example: A mix of multilevel and multiple inheritance.\n"
   ]
  },
  {
   "cell_type": "code",
   "execution_count": 39,
   "id": "42560c64-6ced-4928-b60b-ba713b5e1673",
   "metadata": {},
   "outputs": [
    {
     "name": "stdout",
     "output_type": "stream",
     "text": [
      "Father's trait\n",
      "Mother's trait\n",
      "Child's trait\n"
     ]
    }
   ],
   "source": [
    "class Father:\n",
    "    def show_father(self):\n",
    "        print(\"Father's trait\")\n",
    "\n",
    "class Mother:\n",
    "    def show_mother(self):\n",
    "        print(\"Mother's trait\")\n",
    "\n",
    "class Child(Father, Mother):\n",
    "    def show_child(self):\n",
    "        print(\"Child's trait\")\n",
    "\n",
    "# Usage\n",
    "c = Child()\n",
    "c.show_father()  # Output: Father's trait\n",
    "c.show_mother()  # Output: Mother's trait\n",
    "c.show_child()   # Output: Child's trait"
   ]
  },
  {
   "cell_type": "markdown",
   "id": "6d75f129-d2de-47cf-a797-97eec64a2583",
   "metadata": {},
   "source": [
    "#### 7. What is the Method Resolution Order (MRO) in Python? How can you retrieve it programmatically?"
   ]
  },
  {
   "cell_type": "markdown",
   "id": "061a7ef4-0ee7-4e63-816b-b8e6c990326e",
   "metadata": {},
   "source": [
    "Method Resolution Order (MRO): in Python refers to the order in which classes are searched when executing a method. It is particularly important in multiple inheritance scenarios, as it determines the sequence in which base classes are looked up.\n",
    "\n",
    "Python uses the C3 linearization algorithm to create a linear ordering of classes that respects the inheritance hierarchy.\n",
    "\n",
    "*Retrieving MRO Programmatically*:\n",
    "You can retrieve the MRO of a class using the mro() method or the __mro__ attribute.\n"
   ]
  },
  {
   "cell_type": "code",
   "execution_count": 40,
   "id": "62a27afd-1e2a-46fc-b9f9-daf67be96932",
   "metadata": {},
   "outputs": [
    {
     "name": "stdout",
     "output_type": "stream",
     "text": [
      "[<class '__main__.D'>, <class '__main__.B'>, <class '__main__.C'>, <class '__main__.A'>, <class 'object'>]\n"
     ]
    }
   ],
   "source": [
    "class A:\n",
    "    pass\n",
    "\n",
    "class B(A):\n",
    "    pass\n",
    "\n",
    "class C(A):\n",
    "    pass\n",
    "\n",
    "class D(B, C):\n",
    "    pass\n",
    "\n",
    "# Retrieve MRO\n",
    "print(D.mro())"
   ]
  },
  {
   "cell_type": "markdown",
   "id": "c2a2f151-5dff-4b9c-a0ff-27592b474fac",
   "metadata": {},
   "source": [
    "#### 8. Create an abstract base class Shape with an abstract method area(). Then create two subclasses Circle and Rectangle that implement the area() method."
   ]
  },
  {
   "cell_type": "code",
   "execution_count": 49,
   "id": "fa85fbaa-2e2a-4b86-91da-d8b7e8b36c7b",
   "metadata": {},
   "outputs": [
    {
     "name": "stdout",
     "output_type": "stream",
     "text": [
      "Circle Area: 78.53981633974483\n",
      "Rectangle Area: 24\n"
     ]
    }
   ],
   "source": [
    "from abc import ABC\n",
    "import math\n",
    "\n",
    "# Abstract Base Class\n",
    "class Shape(ABC):\n",
    "    @abstractmethod\n",
    "    def area(self):\n",
    "        pass\n",
    "\n",
    "# Subclass Circle\n",
    "class cir1(Shape):\n",
    "    def __init__(self,r):\n",
    "        self.r=r\n",
    "    def area(self):\n",
    "        return pi*(self.r**2)\n",
    "\n",
    "# Subclass Rectangle\n",
    "class rect1(demo):\n",
    "    def __init__(self,a,b):\n",
    "        self.a=a\n",
    "        self.b=b\n",
    "    def area(self):\n",
    "        return self.a*self.b\n",
    "\n",
    "# Example usage\n",
    "circle = cir1(5)\n",
    "rectangle = rect1(4, 6)\n",
    "\n",
    "print(\"Circle Area:\", circle.area())        # Output: Circle Area: 78.53981633974483\n",
    "print(\"Rectangle Area:\", rectangle.area())  # Output: Rectangle Area: 24"
   ]
  },
  {
   "cell_type": "markdown",
   "id": "0f49fc93-4914-4bdb-8ac7-b25623cb5208",
   "metadata": {},
   "source": [
    "#### 9. Demonstrate polymorphism by creating a function that can work with different shape objects to calculate and print their areas"
   ]
  },
  {
   "cell_type": "code",
   "execution_count": 6,
   "id": "eb1188cf-cefb-4ab3-9ad3-bf313172975a",
   "metadata": {},
   "outputs": [
    {
     "name": "stdout",
     "output_type": "stream",
     "text": [
      "40\n",
      "254.46900494077323\n"
     ]
    }
   ],
   "source": [
    "from math import pi\n",
    "\n",
    "class demo:\n",
    "    def area(self):\n",
    "        pass\n",
    "class rect(demo):\n",
    "    def __init__(self,a,b):\n",
    "        self.a=a\n",
    "        self.b=b\n",
    "    def area(self):\n",
    "        return self.a*self.b\n",
    "class cir(demo):\n",
    "    def __init__(self,r):\n",
    "        self.r=r\n",
    "    def area(self):\n",
    "        return pi*(self.r**2)\n",
    "\n",
    "rectange=rect(5,8)\n",
    "circle=cir(9)\n",
    "print(rectange.area())\n",
    "print(circle.area())"
   ]
  },
  {
   "cell_type": "markdown",
   "id": "08d5202b-3f0c-4a64-bf6a-0487ae2d83b5",
   "metadata": {},
   "source": [
    "#### 10. Implement encapsulation in a BankAccount class with private attributes for balance and account_number. Include methods for deposit, withdrawal, and balance inquiry.\n"
   ]
  },
  {
   "cell_type": "code",
   "execution_count": 18,
   "id": "b948db28-bf18-44d7-b7bc-4a1b361409e8",
   "metadata": {},
   "outputs": [
    {
     "name": "stdout",
     "output_type": "stream",
     "text": [
      "Account number 221161 has 9999999500000rs in his bank account\n",
      "Account number 221161 has 10000000000000rs in his bank account\n"
     ]
    }
   ],
   "source": [
    "class BankAcc:\n",
    "    def __init__(self,balance,account_number):\n",
    "        self.__bal=balance\n",
    "        self.__acc_no=account_number\n",
    "    def deposit(self,amount):\n",
    "        self.__bal+=amount\n",
    "    def withdrawal(self,amount):\n",
    "        self.__bal-=amount\n",
    "    def balance_inquiry(self):\n",
    "        print(f\"Account number {self.__acc_no} has {self.__bal}rs in his bank account\")\n",
    "batman=BankAcc(10000000000000,221161)\n",
    "batman.withdrawal(500000)\n",
    "batman.balance_inquiry()\n",
    "batman.deposit(500000)\n",
    "batman.balance_inquiry()"
   ]
  },
  {
   "cell_type": "markdown",
   "id": "5514591a-6d6c-4d3d-9f0a-037277882e7a",
   "metadata": {},
   "source": [
    "11. ####  Write a class that overrides the __str__ and __add__ magic methods. What will these methods allow you to do?"
   ]
  },
  {
   "cell_type": "code",
   "execution_count": 17,
   "id": "f4ffdc37-796c-49de-9f50-e45b7aefbb3e",
   "metadata": {},
   "outputs": [
    {
     "name": "stdout",
     "output_type": "stream",
     "text": [
      "overriding the object using str method, x:5,y:6\n",
      "overriding the object using str method, x:12,y:14\n",
      "12 14\n"
     ]
    }
   ],
   "source": [
    "class vector:\n",
    "    def __init__(self,x,y):\n",
    "        self.x=x\n",
    "        self.y=y\n",
    "    def __str__(self):\n",
    "        return f\"overriding the object using str method, x:{self.x},y:{self.y}\"\n",
    "    def __add__(self,other):\n",
    "        return vector(self.x+other.x,self.y+other.y)\n",
    "print(vector(5,6))\n",
    "print(vector(5,6)+vector(7,8))\n",
    "ob=vector(5,6)+vector(7,8)\n",
    "print(ob.x,ob.y)"
   ]
  },
  {
   "cell_type": "markdown",
   "id": "ea6f5f16-83e5-4684-b13f-08b02ffeffb8",
   "metadata": {},
   "source": [
    "1. __str__ method: This method is called when you try to print an object or use str() on it. It defines how an object should be represented as a string.\n",
    "2. __add__ method: This method allows you to define hoe objects of a class should behave when + operator  is used."
   ]
  },
  {
   "cell_type": "markdown",
   "id": "f847fce2-2a7c-4b19-908f-ecad74672154",
   "metadata": {},
   "source": [
    "#### 12. Create a decorator that measures and prints the execution time of a function."
   ]
  },
  {
   "cell_type": "code",
   "execution_count": 25,
   "id": "5c222bb6-509e-4f77-9dbb-411293c6a8f6",
   "metadata": {},
   "outputs": [
    {
     "name": "stdout",
     "output_type": "stream",
     "text": [
      "55\n",
      "Total time taken: 0.0\n"
     ]
    }
   ],
   "source": [
    "import time\n",
    "def execution_timer(func):\n",
    "    def timer():\n",
    "        t1=time.time()\n",
    "        func()\n",
    "        t2=time.time()\n",
    "        print(f\"Total time taken: {t1-t2}\")\n",
    "    return timer\n",
    "@execution_timer\n",
    "def cal():\n",
    "    print(sum([i for i in range(1,11)]))\n",
    "cal()"
   ]
  },
  {
   "cell_type": "markdown",
   "id": "612eda51-2d38-4344-9b3a-fa4691f1a83e",
   "metadata": {},
   "source": [
    "#### 13. Explain the concept of the Diamond Problem in multiple inheritance. How does Python resolve it?"
   ]
  },
  {
   "cell_type": "markdown",
   "id": "a70709c4-308d-44a0-be14-cc7c9a5c3b10",
   "metadata": {},
   "source": [
    "* diamond problem>> it occurs when a class inherits from 2 or more than 2 class>> will lead to ambiguity in execution of methods\n",
    "* To remove diamond problem>> python uses method resolution order(MRO) algorithm called c3 linearization\n",
    "* Meaning that the class that is inherited first in the derived class, that method will be called>>in this case method 1"
   ]
  },
  {
   "cell_type": "markdown",
   "id": "02b4be88-921c-4b51-b23a-49c82c648536",
   "metadata": {},
   "source": [
    "#### 14. Write a class method that keeps track of the number of instances created from a class."
   ]
  },
  {
   "cell_type": "code",
   "execution_count": 29,
   "id": "147d708a-329a-47d7-ac37-f544b3c9f3ee",
   "metadata": {},
   "outputs": [
    {
     "name": "stdout",
     "output_type": "stream",
     "text": [
      "instance created\n",
      "instance created\n",
      "2\n"
     ]
    }
   ],
   "source": [
    "class Track:\n",
    "    count=0\n",
    "    def __init__(self):\n",
    "        print(\"instance created\")\n",
    "        Track.count+=1\n",
    "    @classmethod\n",
    "    def check(cls):\n",
    "        return Track.count\n",
    "ob1=Track()\n",
    "bo2=Track()\n",
    "print(Track.check())"
   ]
  },
  {
   "cell_type": "markdown",
   "id": "0e9d8da8-8be3-4753-b851-3d51c8e6d411",
   "metadata": {},
   "source": [
    "#### 15. Implement a static method in a class that checks if a given year is a leap year"
   ]
  },
  {
   "cell_type": "code",
   "execution_count": 31,
   "id": "7868844d-b98c-4f1a-b58b-d858af3c5a18",
   "metadata": {},
   "outputs": [
    {
     "name": "stdout",
     "output_type": "stream",
     "text": [
      "True\n"
     ]
    }
   ],
   "source": [
    "class leap:\n",
    "    @staticmethod\n",
    "    def check(year):\n",
    "        return year%4==0\n",
    "print(leap.check(2024))"
   ]
  }
 ],
 "metadata": {
  "kernelspec": {
   "display_name": "Python 3 (ipykernel)",
   "language": "python",
   "name": "python3"
  },
  "language_info": {
   "codemirror_mode": {
    "name": "ipython",
    "version": 3
   },
   "file_extension": ".py",
   "mimetype": "text/x-python",
   "name": "python",
   "nbconvert_exporter": "python",
   "pygments_lexer": "ipython3",
   "version": "3.11.7"
  }
 },
 "nbformat": 4,
 "nbformat_minor": 5
}
