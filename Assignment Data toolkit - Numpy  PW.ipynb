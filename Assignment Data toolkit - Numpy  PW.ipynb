{
 "cells": [
  {
   "cell_type": "markdown",
   "id": "718b9e22-6811-47ed-b656-c97aa647a87f",
   "metadata": {},
   "source": [
    "# Module 6 Assignment: Data Toolkit, Numpy"
   ]
  },
  {
   "cell_type": "markdown",
   "id": "1fb56cb7-6de2-40b5-8305-07659b65f8f0",
   "metadata": {},
   "source": [
    "## Theory Part"
   ]
  },
  {
   "cell_type": "markdown",
   "id": "83717836-363a-4659-8cb3-7e21d1f5dedf",
   "metadata": {},
   "source": [
    "#### 1. Explain the purpose and advantages of NumPy in scientific computing and data analysis. How does it enhance Python's capabilities for numerical operations?"
   ]
  },
  {
   "cell_type": "markdown",
   "id": "d7c33013-f434-4b44-be31-7eb489d64630",
   "metadata": {},
   "source": [
    "NumPy is like the backbone of scientific computing in Python. It's built specifically for working with arrays and numbers, making it much more efficient for these tasks than Python’s built-in features. If you're dealing with a lot of data or complex mathematical operations, NumPy is the go-to library.\n",
    "\n",
    "Why NumPy is Important:\n",
    "Array Handling: At its core, NumPy is all about working with arrays. Arrays are like Python lists, but way more powerful and faster. You can create 1D, 2D, or even higher-dimensional arrays (think grids of numbers), and perform operations on them all at once, instead of element by element.\n",
    "\n",
    "Speed and Efficiency:\n",
    "NumPy is fast—much faster than using lists, for example. That's because it’s written in C, so it runs at a lower level, closer to the machine. Plus, it uses memory more efficiently, so you can work with bigger datasets without hogging your system’s resources.\n",
    "\n",
    "Math Powerhouse:\n",
    "It has built-in functions for pretty much every mathematical operation you can think of—whether it’s basic stuff like adding and subtracting arrays, or more advanced things like linear algebra, random number generation, and Fourier transforms. NumPy lets you do these calculations on entire datasets at once, without writing a bunch of loops.\n",
    "\n",
    "The Advantages of Using NumPy:\n",
    "Performance Boost: One of the biggest perks is vectorization. Normally, in Python, you’d need loops to work on each element of a list. But with NumPy, you can perform operations on entire arrays in one shot. This is not only more efficient but way faster.\n",
    "\n",
    "Memory Efficiency:\n",
    "Python lists are flexible, but that flexibility comes with overhead. NumPy arrays store data more compactly, so they use less memory, especially when working with large datasets.\n",
    "\n",
    "Broadcasting:\n",
    "This is a fancy way of saying that NumPy knows how to automatically match the shapes of arrays when you’re performing operations. If one array is smaller, it stretches it out behind the scenes to match the bigger array, so you don’t have to worry about dimensions.\n",
    "\n",
    "Works Well with Other Libraries:\n",
    "NumPy is the foundation for a lot of other Python libraries like Pandas (for data analysis) or SciPy (for more complex scientific calculations). When you use these libraries, you’re usually dealing with NumPy arrays under the hood.\n",
    "\n",
    "Large Datasets:\n",
    "If you’re working with huge datasets (think millions of data points), Python’s lists might slow you down or eat up too much memory. NumPy can handle that kind of workload with ease.\n",
    "\n",
    "How NumPy Enhances Python:\n",
    "Python by itself isn't built for heavy numerical calculations. Lists are great for general use but slow when you start doing lots of math with them. NumPy steps in and makes things faster by turning Python into a high-performance tool for working with numbers. Plus, it lets you do things like matrix operations or calculus that would otherwise be much harder and slower in plain Python."
   ]
  },
  {
   "cell_type": "markdown",
   "id": "f9b56c33-ddde-4c8a-892b-f5e9437bab1d",
   "metadata": {},
   "source": [
    "#### 2. Compare and contrast np.mean() and np.average() functions in NumPy. When would you use one over the other?"
   ]
  },
  {
   "cell_type": "markdown",
   "id": "4d88b15e-3431-4931-a402-3f90063ba81b",
   "metadata": {},
   "source": [
    "Similarities:\n",
    "Basic Function: Both functions compute the arithmetic mean (the sum of the elements divided by the number of elements) for the data provided.\n",
    "Data Handling: Both can work with arrays, lists, or other iterable data structures in NumPy.\n",
    "Differences:\n",
    "Weighted Average:\n",
    "\n",
    "np.mean(): It calculates the simple (unweighted) mean by default. It doesn’t support weighting.\n",
    "np.average(): It can compute a weighted average if you provide a weights parameter. A weighted average takes into account the importance or frequency of some elements over others.\n",
    "Example of weighted average using np.average():\n",
    "\n",
    "python\n",
    "Copy code\n",
    "data = np.array([1, 2, 3, 4])\n",
    "weights = np.array([1, 2, 3, 4])\n",
    "weighted_avg = np.average(data, weights=weights)\n",
    "Return Type:\n",
    "\n",
    "np.mean(): Always returns a float, regardless of the input data type.\n",
    "np.average(): The return type will depend on the input array. If the input is of an integer type and no weights are provided, it can return an integer.\n",
    "Axis Support:\n",
    "\n",
    "Both functions support the axis argument, which lets you calculate the mean along a specific axis for multi-dimensional arrays. However, this functionality is more commonly used with np.mean().\n",
    "Weights Handling:\n",
    "\n",
    "np.mean(): Doesn’t accept a weights argument. It’s strictly for calculating the simple mean.\n",
    "np.average(): If no weights are provided, it behaves exactly like np.mean().\n",
    "When to Use One Over the Other:\n",
    "Use np.mean() when:\n",
    "\n",
    "You just need the simple arithmetic mean of the data.\n",
    "You don’t have weights or don’t need to worry about weighting elements differently.\n",
    "You prefer clarity or simplicity, as np.mean() is more straightforward and commonly used for the basic task of finding the mean.\n",
    "Use np.average() when:\n",
    "\n",
    "You need to calculate a weighted average, where certain elements in the data should contribute more (or less) to the final result.\n",
    "You want to retain control over the type of averaging, since np.average() gives more flexibility with weights."
   ]
  },
  {
   "cell_type": "code",
   "execution_count": 4,
   "id": "eec95560-f7a2-4754-aca9-41cec23772f9",
   "metadata": {},
   "outputs": [
    {
     "name": "stdout",
     "output_type": "stream",
     "text": [
      "3.0\n",
      "3.0\n",
      "3.6666666666666665\n"
     ]
    }
   ],
   "source": [
    "import numpy as np\n",
    "\n",
    "data = np.array([1, 2, 3, 4, 5])\n",
    "\n",
    "# Using np.mean() (simple mean)\n",
    "mean = np.mean(data)\n",
    "print(mean)  # Output: 3.0\n",
    "\n",
    "# Using np.average() (simple average)\n",
    "average = np.average(data)\n",
    "print(average)  # Output: 3.0\n",
    "\n",
    "# Using np.average() with weights\n",
    "weights = np.array([1, 2, 3, 4, 5])\n",
    "weighted_avg = np.average(data, weights=weights)\n",
    "print(weighted_avg)  # Output: 3.666...\n"
   ]
  },
  {
   "cell_type": "markdown",
   "id": "3e1e9bcc-d1dc-4322-9bc1-84b3e42a3495",
   "metadata": {},
   "source": [
    "#### 3. Describe the methods for reversing a NumPy array along different axes. Provide examples for 1D and 2D arrays."
   ]
  },
  {
   "cell_type": "markdown",
   "id": "f7760cc6-eb4a-4fed-90e6-ff29c757be2b",
   "metadata": {},
   "source": [
    "Methods for Reversing a NumPy Array:\n",
    "Slicing ([::-1]):\n",
    "\n",
    "Simple, commonly used for reversing arrays.\n",
    "Can reverse along specific axes in multi-dimensional arrays.\n",
    "np.flip():\n",
    "\n",
    "More flexible, allowing reversal along a chosen axis.\n",
    "Works for 1D, 2D, and higher-dimensional arrays.\n"
   ]
  },
  {
   "cell_type": "code",
   "execution_count": 7,
   "id": "c1fe636a-47ea-404b-9bac-4f644c2f070b",
   "metadata": {},
   "outputs": [
    {
     "name": "stdout",
     "output_type": "stream",
     "text": [
      "Reversed 1D array using slicing: [5 4 3 2 1]\n",
      "Reversed 1D array using np.flip: [5 4 3 2 1]\n",
      "Reversed 2D array rows using slicing:\n",
      " [[7 8 9]\n",
      " [4 5 6]\n",
      " [1 2 3]]\n",
      "Reversed 2D array columns using np.flip:\n",
      " [[3 2 1]\n",
      " [6 5 4]\n",
      " [9 8 7]]\n"
     ]
    }
   ],
   "source": [
    "import numpy as np\n",
    "\n",
    "# 1D array example\n",
    "arr_1d = np.array([1, 2, 3, 4, 5])\n",
    "\n",
    "# Reverse using slicing\n",
    "reversed_arr_1d = arr_1d[::-1]\n",
    "print(\"Reversed 1D array using slicing:\", reversed_arr_1d)\n",
    "# Output: [5 4 3 2 1]\n",
    "\n",
    "# Reverse using np.flip\n",
    "flipped_arr_1d = np.flip(arr_1d)\n",
    "print(\"Reversed 1D array using np.flip:\", flipped_arr_1d)\n",
    "# Output: [5 4 3 2 1]\n",
    "\n",
    "# 2D array example\n",
    "arr_2d = np.array([[1, 2, 3],\n",
    "                   [4, 5, 6],\n",
    "                   [7, 8, 9]])\n",
    "\n",
    "# Reverse rows using slicing\n",
    "reversed_rows = arr_2d[::-1, :]\n",
    "print(\"Reversed 2D array rows using slicing:\\n\", reversed_rows)\n",
    "# Output:\n",
    "# [[7 8 9]\n",
    "#  [4 5 6]\n",
    "#  [1 2 3]]\n",
    "\n",
    "# Reverse columns using np.flip\n",
    "flipped_cols = np.flip(arr_2d, axis=1)\n",
    "print(\"Reversed 2D array columns using np.flip:\\n\", flipped_cols)\n",
    "# Output:\n",
    "# [[3 2 1]\n",
    "#  [6 5 4]\n",
    "#  [9 8 7]]\n"
   ]
  },
  {
   "cell_type": "markdown",
   "id": "5f091991-a1b4-4cf9-9c03-691a697f493a",
   "metadata": {},
   "source": [
    "#### 4. How can you determine the data type of elements in a NumPy array? Discuss the importance of data types in memory management and performance."
   ]
  },
  {
   "cell_type": "markdown",
   "id": "f7360c1f-261e-4dd4-a78a-923212e763d4",
   "metadata": {},
   "source": [
    "Determining the Data Type of Elements in a NumPy Array:\n",
    "To find the data type of the elements in a NumPy array, you can use the .dtype attribute. Knowing the data type is important for memory management and performance, especially when working with large datasets.\n",
    "\n",
    "Importance of Data Types:\n",
    "Memory Management:\n",
    "\n",
    "NumPy arrays store elements in a contiguous block of memory using fixed data types (e.g., int32, float64). This reduces memory overhead compared to Python lists.\n",
    "Choosing the right data type minimizes memory consumption. For instance, using int8 instead of int64 can save significant memory when you know your data won't exceed certain values.\n",
    "Performance:\n",
    "\n",
    "Fixed data types enable faster operations because NumPy can optimize calculations, knowing the exact size of each element.\n",
    "Choosing a smaller or simpler data type (e.g., float32 instead of float64) can improve performance by reducing computational load."
   ]
  },
  {
   "cell_type": "code",
   "execution_count": 11,
   "id": "a26ce803-9ea2-4b9a-9191-c7e8c104c438",
   "metadata": {},
   "outputs": [
    {
     "name": "stdout",
     "output_type": "stream",
     "text": [
      "int32\n",
      "float64\n"
     ]
    }
   ],
   "source": [
    "import numpy as np\n",
    "\n",
    "# Creating an array\n",
    "arr = np.array([1, 2, 3])\n",
    "\n",
    "# Determine the data type\n",
    "print(arr.dtype)  # Output: int64 (or system-specific integer type)\n",
    "\n",
    "# Example with a float array\n",
    "arr_float = np.array([1.1, 2.2, 3.3])\n",
    "print(arr_float.dtype)  # Output: float64"
   ]
  },
  {
   "cell_type": "markdown",
   "id": "fa6b0c58-aea5-4b14-8e98-eb3f5a3d92a8",
   "metadata": {},
   "source": [
    "#### 5. Define ndarrays in NumPy and explain their key features. How do they differ from standard Python lists?"
   ]
  },
  {
   "cell_type": "markdown",
   "id": "ce8f9346-b126-4330-a260-72ac6b4d67ba",
   "metadata": {},
   "source": [
    "Definition of ndarrays in NumPy\n",
    "ndarray, short for \"n-dimensional array,\" is the core data structure in NumPy. It is a powerful object that allows you to store and manipulate large datasets in a multidimensional format efficiently.\n",
    "\n",
    "Key Features of ndarrays:\n",
    "Homogeneous Data:\n",
    "\n",
    "All elements in a NumPy array must be of the same data type, ensuring consistency and optimizing performance.\n",
    "Multidimensional:\n",
    "\n",
    "NumPy arrays can be 1D (vectors), 2D (matrices), or higher-dimensional, allowing for complex data representation.\n",
    "Efficient Memory Usage:\n",
    "\n",
    "ndarray uses contiguous memory allocation, leading to better memory management and faster access compared to Python lists.\n",
    "Vectorized Operations:\n",
    "\n",
    "NumPy allows for element-wise operations on arrays without the need for explicit loops, leading to cleaner code and improved performance.\n",
    "Broadcasting:\n",
    "\n",
    "NumPy supports broadcasting, enabling operations on arrays of different shapes in a flexible manner, enhancing the capability to perform mathematical operations on arrays without needing to reshape them.\n",
    "Extensive Functionality:\n",
    "\n",
    "NumPy provides a vast collection of mathematical functions and tools to manipulate arrays, including linear algebra, Fourier transforms, and statistical operations.\n",
    "Differences from Standard Python Lists:\n",
    "Data Type Homogeneity:\n",
    "\n",
    "ndarrays: All elements are of the same type.\n",
    "Python Lists: Can store mixed data types (e.g., integers, strings, objects).\n",
    "Performance:\n",
    "\n",
    "ndarrays: Optimized for performance; faster for mathematical operations and array manipulations.\n",
    "Python Lists: Slower for numerical computations since they are not optimized for such tasks.\n",
    "Memory Efficiency:\n",
    "\n",
    "ndarrays: More memory-efficient due to contiguous storage.\n",
    "Python Lists: Store references to objects, leading to higher memory overhead.\n",
    "Functionality:\n",
    "\n",
    "ndarrays: Equipped with many built-in mathematical and statistical functions.\n",
    "Python Lists: Limited built-in functions for mathematical operations; typically requires loops for such tasks.\n",
    "Multidimensionality:\n",
    "\n",
    "ndarrays: Can easily represent multi-dimensional data.\n",
    "Python Lists: Can represent multi-dimensional data using nested lists, but operations become complex and less efficient."
   ]
  },
  {
   "cell_type": "markdown",
   "id": "13cc2853-2bfb-4e38-9ea9-2853f15998c8",
   "metadata": {},
   "source": [
    "#### 6. Analyze the performance benefits of NumPy arrays over Python lists for large-scale numerical operations."
   ]
  },
  {
   "cell_type": "markdown",
   "id": "84256de2-43b7-4000-a958-15df9b4286d3",
   "metadata": {},
   "source": [
    "Performance Benefits of NumPy Arrays Over Python Lists for Large-Scale Numerical Operations\n",
    "Memory Efficiency:\n",
    "\n",
    "Contiguous Memory Allocation: NumPy arrays are stored in contiguous blocks of memory, which allows for better cache performance and minimizes memory fragmentation. This is in contrast to Python lists, which store references to objects, leading to additional overhead and inefficient memory usage.\n",
    "Fixed Data Types: NumPy arrays enforce a single data type for all elements, allowing for compact storage and reduced memory consumption compared to Python lists, which can contain mixed types.\n",
    "Faster Operations:\n",
    "\n",
    "Vectorization: NumPy allows for vectorized operations, meaning that operations can be applied to entire arrays without explicit loops. This leads to concise and efficient code. For example, adding two arrays element-wise is performed with a single operation in NumPy, while Python lists require looping through each element.\n",
    "Optimized Libraries: NumPy uses highly optimized libraries (such as BLAS and LAPACK) for mathematical computations, which are often implemented in lower-level languages (like C or Fortran). These libraries significantly speed up operations compared to Python's built-in functions, which may not be optimized for performance.\n",
    "Broadcasting:\n",
    "\n",
    "Flexible Operations: NumPy's broadcasting capability allows for operations on arrays of different shapes without the need to manually reshape them. This feature leads to less code and improved performance as it minimizes the overhead of creating temporary arrays.\n",
    "Reduced Function Call Overhead:\n",
    "\n",
    "NumPy performs operations in bulk, reducing the number of Python function calls required. In contrast, operations on Python lists typically involve multiple function calls and loops, which can add significant overhead in large-scale computations.\n",
    "Parallel Processing:\n",
    "\n",
    "Some NumPy operations can be parallelized, leveraging multiple CPU cores, whereas Python lists do not inherently support this type of operation. Libraries that build on NumPy, like Dask, can further enhance performance by distributing computations across multiple processors or machines.\n",
    "Example Comparison\n",
    "Here’s a brief comparison to illustrate the performance benefits:"
   ]
  },
  {
   "cell_type": "code",
   "execution_count": 13,
   "id": "9aa5e110-c0cb-44d3-997c-c07ef9e8ed34",
   "metadata": {},
   "outputs": [
    {
     "name": "stdout",
     "output_type": "stream",
     "text": [
      "NumPy operation time: 0.002033233642578125\n",
      "Python list operation time: 0.12540602684020996\n"
     ]
    }
   ],
   "source": [
    "import numpy as np\n",
    "import time\n",
    "\n",
    "# Create a large NumPy array\n",
    "arr_np = np.random.rand(1_000_000)\n",
    "\n",
    "# Measure time for vectorized operation\n",
    "start_time = time.time()\n",
    "arr_np_squared = arr_np ** 2  # Element-wise squaring\n",
    "end_time = time.time()\n",
    "print(\"NumPy operation time:\", end_time - start_time)\n",
    "\n",
    "# Create a large Python list\n",
    "arr_list = list(np.random.rand(1_000_000))\n",
    "\n",
    "# Measure time for list operation\n",
    "start_time = time.time()\n",
    "arr_list_squared = [x ** 2 for x in arr_list]  # Element-wise squaring with list comprehension\n",
    "end_time = time.time()\n",
    "print(\"Python list operation time:\", end_time - start_time)"
   ]
  },
  {
   "cell_type": "markdown",
   "id": "ff2ce33b-3a33-4328-abe9-652f0f0fd541",
   "metadata": {},
   "source": [
    "#### 7. Compare vstack() and hstack() functions in NumPy. Provide examples demonstrating their usage and output."
   ]
  },
  {
   "cell_type": "markdown",
   "id": "eb9a7688-aece-48e8-814d-3473fc95c009",
   "metadata": {},
   "source": [
    "Comparison of vstack() and hstack() Functions in NumPy\n",
    "vstack(): This function stacks arrays in sequence vertically (row-wise). It takes a sequence of arrays and stacks them along the first axis (rows).\n",
    "\n",
    "hstack(): This function stacks arrays in sequence horizontally (column-wise). It takes a sequence of arrays and stacks them along the second axis (columns).\n",
    "\n",
    "Key Differences:\n",
    "Direction:\n",
    "\n",
    "vstack(): Stacks arrays vertically, adding new rows.\n",
    "hstack(): Stacks arrays horizontally, adding new columns.\n",
    "Input Requirements:\n",
    "\n",
    "Both functions require that the dimensions of the input arrays match along the axes that are not being stacked."
   ]
  },
  {
   "cell_type": "code",
   "execution_count": 14,
   "id": "62a79499-2e97-4e0a-a0db-feb10b32d307",
   "metadata": {},
   "outputs": [
    {
     "name": "stdout",
     "output_type": "stream",
     "text": [
      "vstack result:\n",
      "[[1 2 3]\n",
      " [4 5 6]]\n"
     ]
    }
   ],
   "source": [
    "import numpy as np\n",
    "\n",
    "# Create two 1D arrays\n",
    "arr1 = np.array([1, 2, 3])\n",
    "arr2 = np.array([4, 5, 6])\n",
    "\n",
    "# Use vstack to stack them vertically\n",
    "vstack_result = np.vstack((arr1, arr2))\n",
    "print(\"vstack result:\")\n",
    "print(vstack_result)\n"
   ]
  },
  {
   "cell_type": "code",
   "execution_count": 15,
   "id": "53ee20ad-8245-4425-8adc-7fe9bebdc095",
   "metadata": {},
   "outputs": [
    {
     "name": "stdout",
     "output_type": "stream",
     "text": [
      "hstack result:\n",
      "[[1 2 3 7]\n",
      " [4 5 6 8]]\n"
     ]
    }
   ],
   "source": [
    "import numpy as np\n",
    "\n",
    "# Create two 2D arrays\n",
    "arr3 = np.array([[1, 2, 3],\n",
    "                 [4, 5, 6]])\n",
    "\n",
    "arr4 = np.array([[7],\n",
    "                 [8]])\n",
    "\n",
    "# Use hstack to stack them horizontally\n",
    "hstack_result = np.hstack((arr3, arr4))\n",
    "print(\"hstack result:\")\n",
    "print(hstack_result)\n"
   ]
  },
  {
   "cell_type": "markdown",
   "id": "be608823-5742-4d39-a5b1-a532d0ebdb75",
   "metadata": {},
   "source": [
    "#### 8. Explain the differences between fliplr() and flipud() methods in NumPy, including their effects on various array dimensions."
   ]
  },
  {
   "cell_type": "markdown",
   "id": "652d6a7b-ae0b-4730-8463-dad6b0644962",
   "metadata": {},
   "source": [
    "\n",
    "Comparison of vstack() and hstack() Functions in NumPy\n",
    "vstack(): This function stacks arrays in sequence vertically (row-wise). It takes a sequence of arrays and stacks them along the first axis (rows).\n",
    "\n",
    "hstack(): This function stacks arrays in sequence horizontally (column-wise). It takes a sequence of arrays and stacks them along the second axis (columns).\n",
    "\n",
    "Key Differences:\n",
    "Direction:\n",
    "\n",
    "vstack(): Stacks arrays vertically, adding new rows.\n",
    "hstack(): Stacks arrays horizontally, adding new columns.\n",
    "Input Requirements:\n",
    "\n",
    "Both functions require that the dimensions of the input arrays match along the axes that are not being stacked."
   ]
  },
  {
   "cell_type": "code",
   "execution_count": 16,
   "id": "78225712-4600-4890-8715-63e0727f3bda",
   "metadata": {},
   "outputs": [
    {
     "name": "stdout",
     "output_type": "stream",
     "text": [
      "vstack result:\n",
      "[[1 2 3]\n",
      " [4 5 6]]\n"
     ]
    }
   ],
   "source": [
    "import numpy as np\n",
    "\n",
    "# Create two 1D arrays\n",
    "arr1 = np.array([1, 2, 3])\n",
    "arr2 = np.array([4, 5, 6])\n",
    "\n",
    "# Use vstack to stack them vertically\n",
    "vstack_result = np.vstack((arr1, arr2))\n",
    "print(\"vstack result:\")\n",
    "print(vstack_result)\n"
   ]
  },
  {
   "cell_type": "code",
   "execution_count": 17,
   "id": "227e4d4b-bb6a-4e92-9fa5-1c4b4ec0fd70",
   "metadata": {},
   "outputs": [
    {
     "name": "stdout",
     "output_type": "stream",
     "text": [
      "hstack result:\n",
      "[[1 2 3 7]\n",
      " [4 5 6 8]]\n"
     ]
    }
   ],
   "source": [
    "import numpy as np\n",
    "\n",
    "# Create two 2D arrays\n",
    "arr3 = np.array([[1, 2, 3],\n",
    "                 [4, 5, 6]])\n",
    "\n",
    "arr4 = np.array([[7],\n",
    "                 [8]])\n",
    "\n",
    "# Use hstack to stack them horizontally\n",
    "hstack_result = np.hstack((arr3, arr4))\n",
    "print(\"hstack result:\")\n",
    "print(hstack_result)\n"
   ]
  },
  {
   "cell_type": "markdown",
   "id": "3d025257-8e47-43b3-a1d8-87aebb090ebd",
   "metadata": {},
   "source": [
    "#### 9. Discuss the functionality of the array_split() method in NumPy. How does it handle uneven splits?"
   ]
  },
  {
   "cell_type": "markdown",
   "id": "09dcc0eb-37d0-4d88-9660-154f386b762e",
   "metadata": {},
   "source": [
    "Functionality of array_split() Method in NumPy\n",
    "The array_split() method in NumPy is used to divide an array into multiple sub-arrays along a specified axis. This method is particularly useful when you need to partition your data into smaller segments for processing or analysis.\n",
    "\n",
    "Key Features of array_split():\n",
    "Splitting Along an Axis:\n",
    "\n",
    "You can specify the axis along which to split the array. By default, it splits along the first axis (axis=0), which is the row direction for 2D arrays.\n",
    "Uneven Splits:\n",
    "\n",
    "Unlike split(), which requires the array to be evenly divisible by the number of splits, array_split() can handle uneven splits. If the array cannot be evenly divided, it will distribute the remaining elements across the sub-arrays.\n",
    "Return Type:\n",
    "\n",
    "The function returns a list of sub-arrays, each containing the specified number of elements.\n",
    "Parameters:\n",
    "\n",
    "ary: The input array to be split.\n",
    "indices_or_sections: The number of splits or the specific indices at which to split the array.\n",
    "axis: The axis along which to split (default is 0).\n",
    "Handling Uneven Splits\n",
    "When you specify a number of splits that does not evenly divide the size of the array along the specified axis, array_split() will create as many equal-sized sub-arrays as possible and distribute the leftover elements across the resulting sub-arrays.\n",
    "\n",
    "For example, if you try to split an array of size 10 into 3 parts, array_split() will create two arrays of size 3 and one array of size 4.\n"
   ]
  },
  {
   "cell_type": "code",
   "execution_count": 18,
   "id": "49b15d9d-5bce-452c-9b7a-f48a67af6a2a",
   "metadata": {},
   "outputs": [
    {
     "name": "stdout",
     "output_type": "stream",
     "text": [
      "Split 1D array:\n",
      "Sub-array 1: [1 2 3 4]\n",
      "Sub-array 2: [5 6 7]\n",
      "Sub-array 3: [ 8  9 10]\n"
     ]
    }
   ],
   "source": [
    "import numpy as np\n",
    "\n",
    "# Create a 1D array\n",
    "arr = np.array([1, 2, 3, 4, 5, 6, 7, 8, 9, 10])\n",
    "\n",
    "# Split the array into 3 parts\n",
    "split_result = np.array_split(arr, 3)\n",
    "print(\"Split 1D array:\")\n",
    "for i, sub_array in enumerate(split_result):\n",
    "    print(f\"Sub-array {i+1}: {sub_array}\")\n"
   ]
  },
  {
   "cell_type": "code",
   "execution_count": 19,
   "id": "bbc3e038-695e-4864-8ab1-19125a2f0f98",
   "metadata": {},
   "outputs": [
    {
     "name": "stdout",
     "output_type": "stream",
     "text": [
      "Split 2D array:\n",
      "Sub-array 1:\n",
      "[[1 2 3]\n",
      " [4 5 6]]\n",
      "Sub-array 2:\n",
      "[[ 7  8  9]\n",
      " [10 11 12]]\n"
     ]
    }
   ],
   "source": [
    "import numpy as np\n",
    "\n",
    "# Create a 2D array\n",
    "arr_2d = np.array([[1, 2, 3],\n",
    "                   [4, 5, 6],\n",
    "                   [7, 8, 9],\n",
    "                   [10, 11, 12]])\n",
    "\n",
    "# Split the 2D array into 2 parts along axis 0\n",
    "split_result_2d = np.array_split(arr_2d, 2, axis=0)\n",
    "print(\"Split 2D array:\")\n",
    "for i, sub_array in enumerate(split_result_2d):\n",
    "    print(f\"Sub-array {i+1}:\\n{sub_array}\")\n"
   ]
  },
  {
   "cell_type": "markdown",
   "id": "e9bdafbd-aa44-4e6c-8639-c356b10123aa",
   "metadata": {},
   "source": [
    "#### 10. Explain the concepts of vectorization and broadcasting in NumPy. How do they contribute to efficient array operations?"
   ]
  },
  {
   "cell_type": "markdown",
   "id": "b6203c3f-91f4-41a1-974b-56282e18259b",
   "metadata": {},
   "source": [
    "Concepts of Vectorization and Broadcasting in NumPy\n",
    "Vectorization and broadcasting are essential features in NumPy that enhance the efficiency of array operations.\n",
    "\n",
    "Vectorization\n",
    "Definition: Vectorization converts operations that would typically use loops into operations that apply to entire arrays.\n",
    "Benefits:\n",
    "Element-wise Operations: Perform calculations on whole arrays at once.\n",
    "Conciseness: Results in shorter and more readable code.\n",
    "Performance: Faster execution due to optimized operations in C.\n",
    "Broadcasting\n",
    "Definition: Broadcasting allows arithmetic operations on arrays of different shapes by automatically adjusting their sizes.\n",
    "Key Rules:\n",
    "Smaller arrays are padded with ones on the left to match dimensions.\n",
    "Dimensions are compatible if they are equal or if one is 1."
   ]
  },
  {
   "cell_type": "code",
   "execution_count": 20,
   "id": "5cc20131-b02a-493d-bdc8-42b61216a35d",
   "metadata": {},
   "outputs": [
    {
     "name": "stdout",
     "output_type": "stream",
     "text": [
      "Vectorized result: [5 7 9]\n"
     ]
    }
   ],
   "source": [
    "import numpy as np\n",
    "\n",
    "# Create two arrays\n",
    "a = np.array([1, 2, 3])\n",
    "b = np.array([4, 5, 6])\n",
    "\n",
    "# Vectorized addition\n",
    "result = a + b\n",
    "print(\"Vectorized result:\", result)\n"
   ]
  },
  {
   "cell_type": "code",
   "execution_count": 21,
   "id": "db7c2826-36c9-4ef9-81ba-dfd01edf2b33",
   "metadata": {},
   "outputs": [
    {
     "name": "stdout",
     "output_type": "stream",
     "text": [
      "Broadcasting result:\n",
      " [[11 12 13]\n",
      " [21 22 23]\n",
      " [31 32 33]]\n"
     ]
    }
   ],
   "source": [
    "import numpy as np\n",
    "\n",
    "# Create a 1D array\n",
    "a = np.array([1, 2, 3])  # Shape: (3,)\n",
    "\n",
    "# Create a 2D array\n",
    "b = np.array([[10],      # Shape: (3, 1)\n",
    "              [20],\n",
    "              [30]])\n",
    "\n",
    "# Broadcasting\n",
    "result = a + b\n",
    "print(\"Broadcasting result:\\n\", result)\n"
   ]
  },
  {
   "cell_type": "markdown",
   "id": "4e0c45b1-8b5b-4494-b558-f459fbeea531",
   "metadata": {},
   "source": [
    "## Practical"
   ]
  },
  {
   "cell_type": "markdown",
   "id": "7c533399-383b-438c-a6eb-ee219b495645",
   "metadata": {},
   "source": [
    "#### 1. Create a 3x3 NumPy array with random integers between 1 and 100 and interchange its rows and columns."
   ]
  },
  {
   "cell_type": "code",
   "execution_count": 22,
   "id": "af260a60-f6d7-4d00-be15-98559ee70a7d",
   "metadata": {},
   "outputs": [
    {
     "name": "stdout",
     "output_type": "stream",
     "text": [
      "Original 3x3 Array:\n",
      " [[ 6 52 21]\n",
      " [30 35 74]\n",
      " [25 11 33]]\n",
      "Transposed Array:\n",
      " [[ 6 30 25]\n",
      " [52 35 11]\n",
      " [21 74 33]]\n"
     ]
    }
   ],
   "source": [
    "import numpy as np\n",
    "\n",
    "# Create a 3x3 array with random integers between 1 and 100\n",
    "array_3x3 = np.random.randint(1, 101, size=(3, 3))\n",
    "print(\"Original 3x3 Array:\\n\", array_3x3)\n",
    "\n",
    "# Interchange rows and columns (transpose)\n",
    "transposed_array = array_3x3.T\n",
    "print(\"Transposed Array:\\n\", transposed_array)\n"
   ]
  },
  {
   "cell_type": "markdown",
   "id": "a884246d-b211-4fea-9b1d-94c08b858e7c",
   "metadata": {},
   "source": [
    "#### 2. Generate a 1D NumPy array with 10 elements, reshape it into a 2x5 array, then into a 5x2 array."
   ]
  },
  {
   "cell_type": "code",
   "execution_count": 23,
   "id": "d639ad0d-013b-4735-8d7d-ff8d18a2c57a",
   "metadata": {},
   "outputs": [
    {
     "name": "stdout",
     "output_type": "stream",
     "text": [
      "Original 1D Array: [0 1 2 3 4 5 6 7 8 9]\n",
      "Reshaped 2x5 Array:\n",
      " [[0 1 2 3 4]\n",
      " [5 6 7 8 9]]\n",
      "Reshaped 5x2 Array:\n",
      " [[0 1]\n",
      " [2 3]\n",
      " [4 5]\n",
      " [6 7]\n",
      " [8 9]]\n"
     ]
    }
   ],
   "source": [
    "# Generate a 1D array with 10 elements\n",
    "array_1d = np.arange(10)\n",
    "print(\"Original 1D Array:\", array_1d)\n",
    "\n",
    "# Reshape into a 2x5 array\n",
    "array_2x5 = array_1d.reshape(2, 5)\n",
    "print(\"Reshaped 2x5 Array:\\n\", array_2x5)\n",
    "\n",
    "# Reshape into a 5x2 array\n",
    "array_5x2 = array_1d.reshape(5, 2)\n",
    "print(\"Reshaped 5x2 Array:\\n\", array_5x2)\n"
   ]
  },
  {
   "cell_type": "markdown",
   "id": "6d1b0e32-91ac-4db5-acd4-dec4bb68325f",
   "metadata": {},
   "source": [
    "#### 3. Create a 4x4 NumPy array with random float values and add a border of zeros."
   ]
  },
  {
   "cell_type": "code",
   "execution_count": 24,
   "id": "61c0b994-fcf9-4667-8182-b9b629c0655a",
   "metadata": {},
   "outputs": [
    {
     "name": "stdout",
     "output_type": "stream",
     "text": [
      "Original 4x4 Array:\n",
      " [[0.33439122 0.6792706  0.24617096 0.93796075]\n",
      " [0.83095928 0.56019368 0.41033444 0.10648798]\n",
      " [0.64449869 0.13838567 0.91596418 0.26726842]\n",
      " [0.02619796 0.09335624 0.60113926 0.88236218]]\n",
      "Array with Border:\n",
      " [[0.         0.         0.         0.         0.         0.        ]\n",
      " [0.         0.33439122 0.6792706  0.24617096 0.93796075 0.        ]\n",
      " [0.         0.83095928 0.56019368 0.41033444 0.10648798 0.        ]\n",
      " [0.         0.64449869 0.13838567 0.91596418 0.26726842 0.        ]\n",
      " [0.         0.02619796 0.09335624 0.60113926 0.88236218 0.        ]\n",
      " [0.         0.         0.         0.         0.         0.        ]]\n"
     ]
    }
   ],
   "source": [
    "# Create a 4x4 array with random float values\n",
    "array_4x4 = np.random.rand(4, 4)\n",
    "print(\"Original 4x4 Array:\\n\", array_4x4)\n",
    "\n",
    "# Add a border of zeros around it\n",
    "bordered_array = np.pad(array_4x4, pad_width=1, mode='constant', constant_values=0)\n",
    "print(\"Array with Border:\\n\", bordered_array)\n"
   ]
  },
  {
   "cell_type": "markdown",
   "id": "75c21d6b-88a5-4085-b55b-88f6021b6dcb",
   "metadata": {},
   "source": [
    "#### 4. Create an array of integers from 10 to 60 with a step of 5."
   ]
  },
  {
   "cell_type": "code",
   "execution_count": 25,
   "id": "3ad8c7e9-1896-4757-af45-9196a505c563",
   "metadata": {},
   "outputs": [
    {
     "name": "stdout",
     "output_type": "stream",
     "text": [
      "Array with Step of 5: [10 15 20 25 30 35 40 45 50 55 60]\n"
     ]
    }
   ],
   "source": [
    "# Create an array of integers from 10 to 60 with a step of 5\n",
    "array_step = np.arange(10, 61, 5)\n",
    "print(\"Array with Step of 5:\", array_step)\n"
   ]
  },
  {
   "cell_type": "markdown",
   "id": "d4a161bf-9937-4b3e-97c5-fe2de572ca60",
   "metadata": {},
   "source": [
    "#### 5. Create a NumPy array of strings and apply different case transformations."
   ]
  },
  {
   "cell_type": "code",
   "execution_count": null,
   "id": "0dfa80c3-bc99-4abf-9728-3e1f549d3c8c",
   "metadata": {},
   "outputs": [],
   "source": [
    "# Create an array of strings\n",
    "string_array = np.array(['python', 'numpy', 'pandas'])\n",
    "\n",
    "# Apply different case transformations\n",
    "uppercase_array = np.char.upper(string_array)\n",
    "lowercase_array = np.char.lower(string_array)\n",
    "titlecase_array = np.char.title(string_array)\n",
    "\n",
    "print(\"Uppercase:\", uppercase_array)\n",
    "print(\"Lowercase:\", lowercase_array)\n",
    "print(\"Title Case:\", titlecase_array)\n"
   ]
  },
  {
   "cell_type": "markdown",
   "id": "43b6e7fc-34d1-460d-898a-e3cf1035fede",
   "metadata": {},
   "source": [
    "#### 6. Generate a NumPy array of words and insert a space between each character."
   ]
  },
  {
   "cell_type": "code",
   "execution_count": null,
   "id": "6f1d2b2e-2405-41c4-99d4-103234db8234",
   "metadata": {},
   "outputs": [],
   "source": []
  },
  {
   "cell_type": "markdown",
   "id": "7f3c80e0-d5ca-4789-b330-12453fe7eeb2",
   "metadata": {},
   "source": [
    "#### 7. Create two 2D NumPy arrays and perform element-wise addition, subtraction, multiplication, and division."
   ]
  },
  {
   "cell_type": "code",
   "execution_count": null,
   "id": "e7175c06-a133-4cee-ba0a-764a63da483a",
   "metadata": {},
   "outputs": [],
   "source": []
  },
  {
   "cell_type": "markdown",
   "id": "c5b1d415-4549-4905-ae1f-14b05d88e1eb",
   "metadata": {},
   "source": [
    "#### 8. Use NumPy to create a 5x5 identity matrix and extract its diagonal elements."
   ]
  },
  {
   "cell_type": "code",
   "execution_count": null,
   "id": "b49a74c1-b6db-4c33-94f6-28b261fb3fa6",
   "metadata": {},
   "outputs": [],
   "source": []
  },
  {
   "cell_type": "markdown",
   "id": "df5cb7d7-6dc2-4d6e-ad0d-8069acde49a9",
   "metadata": {},
   "source": [
    "#### 9. Generate a NumPy array of 100 random integers between 0 and 1000 and find all prime numbers."
   ]
  },
  {
   "cell_type": "code",
   "execution_count": null,
   "id": "b5d3fcca-5775-45c8-ba5e-8cf656ccbe95",
   "metadata": {},
   "outputs": [],
   "source": []
  },
  {
   "cell_type": "markdown",
   "id": "925e5fc5-73d8-4175-b291-3f4bebe6ccb7",
   "metadata": {},
   "source": [
    "#### 10. Create a NumPy array representing daily temperatures for a month and calculate weekly averages."
   ]
  },
  {
   "cell_type": "code",
   "execution_count": null,
   "id": "0dae1c6f-0f63-4fcd-8803-0e2d99f28c98",
   "metadata": {},
   "outputs": [],
   "source": []
  }
 ],
 "metadata": {
  "kernelspec": {
   "display_name": "Python 3 (ipykernel)",
   "language": "python",
   "name": "python3"
  },
  "language_info": {
   "codemirror_mode": {
    "name": "ipython",
    "version": 3
   },
   "file_extension": ".py",
   "mimetype": "text/x-python",
   "name": "python",
   "nbconvert_exporter": "python",
   "pygments_lexer": "ipython3",
   "version": "3.11.7"
  }
 },
 "nbformat": 4,
 "nbformat_minor": 5
}
